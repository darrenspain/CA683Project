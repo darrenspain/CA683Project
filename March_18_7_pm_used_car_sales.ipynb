{
  "nbformat": 4,
  "nbformat_minor": 0,
  "metadata": {
    "colab": {
      "name": "March 18 7 pm used_car_sales.ipynb",
      "provenance": [],
      "collapsed_sections": [
        "eTNZUS3VJbjO",
        "LnJWQCgZJskb",
        "vnSlbu3dJ6lN",
        "GYJ5kWwl0WSP",
        "By-YGYLo1VVm",
        "I93XU7MThg5S",
        "YkiQOSqbhs1u"
      ],
      "toc_visible": true
    },
    "kernelspec": {
      "name": "python3",
      "display_name": "Python 3"
    },
    "accelerator": "GPU"
  },
  "cells": [
    {
      "cell_type": "markdown",
      "metadata": {
        "id": "hvdrDq8AAKzx"
      },
      "source": [
        "# <b> <u> <font color = green> CA 683 Project : Used Car Sales </u> </b>\n",
        "\n",
        "Dataset with used Car Sales from United States\n",
        "\n",
        "Our Dataset was downloaded from Kaggle:\n",
        "\n",
        "https://www.kaggle.com/tsaustin/us-used-car-sales-data\n",
        "\n",
        "Team:\n",
        "- Emma Dunne\n",
        "- Tony Delaney\n",
        "- Meenu Matthew\n",
        "- Darren Spain\n"
      ]
    },
    {
      "cell_type": "markdown",
      "metadata": {
        "id": "6peUdII41oKz"
      },
      "source": [
        "## <font color = green> Import Necesscary files and read in the Used Car Data Set and other Data Sets."
      ]
    },
    {
      "cell_type": "code",
      "metadata": {
        "id": "xUPE9f9zYPN7"
      },
      "source": [
        "import pandas as pd\n",
        "import numpy as np\n",
        "import glob\n",
        "from sklearn.model_selection import train_test_split\n",
        "from sklearn import ensemble\n",
        "from sklearn import linear_model\n",
        "from sklearn.metrics import mean_absolute_error,mean_squared_error\n",
        "from sklearn.metrics import mean_absolute_error\n",
        "from sklearn.model_selection import GridSearchCV\n"
      ],
      "execution_count": 1,
      "outputs": []
    },
    {
      "cell_type": "code",
      "metadata": {
        "id": "Iv4PHZZ-q2Pz",
        "colab": {
          "base_uri": "https://localhost:8080/"
        },
        "outputId": "a2d22fe1-61c2-4410-db88-dd8c12ccb30f"
      },
      "source": [
        "pip install ipython[all]"
      ],
      "execution_count": 2,
      "outputs": [
        {
          "output_type": "stream",
          "text": [
            "Requirement already satisfied: ipython[all] in /usr/local/lib/python3.7/dist-packages (5.5.0)\n",
            "Requirement already satisfied: pexpect; sys_platform != \"win32\" in /usr/local/lib/python3.7/dist-packages (from ipython[all]) (4.8.0)\n",
            "Requirement already satisfied: simplegeneric>0.8 in /usr/local/lib/python3.7/dist-packages (from ipython[all]) (0.8.1)\n",
            "Requirement already satisfied: traitlets>=4.2 in /usr/local/lib/python3.7/dist-packages (from ipython[all]) (5.0.5)\n",
            "Requirement already satisfied: setuptools>=18.5 in /usr/local/lib/python3.7/dist-packages (from ipython[all]) (54.0.0)\n",
            "Requirement already satisfied: pickleshare in /usr/local/lib/python3.7/dist-packages (from ipython[all]) (0.7.5)\n",
            "Requirement already satisfied: decorator in /usr/local/lib/python3.7/dist-packages (from ipython[all]) (4.4.2)\n",
            "Requirement already satisfied: pygments in /usr/local/lib/python3.7/dist-packages (from ipython[all]) (2.6.1)\n",
            "Requirement already satisfied: prompt-toolkit<2.0.0,>=1.0.4 in /usr/local/lib/python3.7/dist-packages (from ipython[all]) (1.0.18)\n",
            "Requirement already satisfied: nbformat; extra == \"all\" in /usr/local/lib/python3.7/dist-packages (from ipython[all]) (5.1.2)\n",
            "Requirement already satisfied: notebook; extra == \"all\" in /usr/local/lib/python3.7/dist-packages (from ipython[all]) (5.3.1)\n",
            "Requirement already satisfied: qtconsole; extra == \"all\" in /usr/local/lib/python3.7/dist-packages (from ipython[all]) (5.0.2)\n",
            "Requirement already satisfied: Sphinx>=1.3; extra == \"all\" in /usr/local/lib/python3.7/dist-packages (from ipython[all]) (1.8.5)\n",
            "Collecting ipyparallel; extra == \"all\"\n",
            "\u001b[?25l  Downloading https://files.pythonhosted.org/packages/3b/e9/03a9189eb39276396309faf28bf833b4328befe4513bbf375b811a36a076/ipyparallel-6.3.0-py3-none-any.whl (199kB)\n",
            "\u001b[K     |████████████████████████████████| 204kB 19.2MB/s \n",
            "\u001b[?25hRequirement already satisfied: ipykernel; extra == \"all\" in /usr/local/lib/python3.7/dist-packages (from ipython[all]) (4.10.1)\n",
            "Collecting nose>=0.10.1; extra == \"all\"\n",
            "\u001b[?25l  Downloading https://files.pythonhosted.org/packages/15/d8/dd071918c040f50fa1cf80da16423af51ff8ce4a0f2399b7bf8de45ac3d9/nose-1.3.7-py3-none-any.whl (154kB)\n",
            "\u001b[K     |████████████████████████████████| 163kB 49.0MB/s \n",
            "\u001b[?25hRequirement already satisfied: requests; extra == \"all\" in /usr/local/lib/python3.7/dist-packages (from ipython[all]) (2.23.0)\n",
            "Requirement already satisfied: testpath; extra == \"all\" in /usr/local/lib/python3.7/dist-packages (from ipython[all]) (0.4.4)\n",
            "Requirement already satisfied: nbconvert; extra == \"all\" in /usr/local/lib/python3.7/dist-packages (from ipython[all]) (5.6.1)\n",
            "Requirement already satisfied: ipywidgets; extra == \"all\" in /usr/local/lib/python3.7/dist-packages (from ipython[all]) (7.6.3)\n",
            "Requirement already satisfied: ptyprocess>=0.5 in /usr/local/lib/python3.7/dist-packages (from pexpect; sys_platform != \"win32\"->ipython[all]) (0.7.0)\n",
            "Requirement already satisfied: ipython-genutils in /usr/local/lib/python3.7/dist-packages (from traitlets>=4.2->ipython[all]) (0.2.0)\n",
            "Requirement already satisfied: wcwidth in /usr/local/lib/python3.7/dist-packages (from prompt-toolkit<2.0.0,>=1.0.4->ipython[all]) (0.2.5)\n",
            "Requirement already satisfied: six>=1.9.0 in /usr/local/lib/python3.7/dist-packages (from prompt-toolkit<2.0.0,>=1.0.4->ipython[all]) (1.15.0)\n",
            "Requirement already satisfied: jsonschema!=2.5.0,>=2.4 in /usr/local/lib/python3.7/dist-packages (from nbformat; extra == \"all\"->ipython[all]) (2.6.0)\n",
            "Requirement already satisfied: jupyter-core in /usr/local/lib/python3.7/dist-packages (from nbformat; extra == \"all\"->ipython[all]) (4.7.1)\n",
            "Requirement already satisfied: tornado>=4 in /usr/local/lib/python3.7/dist-packages (from notebook; extra == \"all\"->ipython[all]) (5.1.1)\n",
            "Requirement already satisfied: jinja2 in /usr/local/lib/python3.7/dist-packages (from notebook; extra == \"all\"->ipython[all]) (2.11.3)\n",
            "Requirement already satisfied: Send2Trash in /usr/local/lib/python3.7/dist-packages (from notebook; extra == \"all\"->ipython[all]) (1.5.0)\n",
            "Requirement already satisfied: terminado>=0.8.1 in /usr/local/lib/python3.7/dist-packages (from notebook; extra == \"all\"->ipython[all]) (0.9.2)\n",
            "Requirement already satisfied: jupyter-client>=5.2.0 in /usr/local/lib/python3.7/dist-packages (from notebook; extra == \"all\"->ipython[all]) (5.3.5)\n",
            "Requirement already satisfied: pyzmq>=17.1 in /usr/local/lib/python3.7/dist-packages (from qtconsole; extra == \"all\"->ipython[all]) (22.0.3)\n",
            "Requirement already satisfied: qtpy in /usr/local/lib/python3.7/dist-packages (from qtconsole; extra == \"all\"->ipython[all]) (1.9.0)\n",
            "Requirement already satisfied: alabaster<0.8,>=0.7 in /usr/local/lib/python3.7/dist-packages (from Sphinx>=1.3; extra == \"all\"->ipython[all]) (0.7.12)\n",
            "Requirement already satisfied: snowballstemmer>=1.1 in /usr/local/lib/python3.7/dist-packages (from Sphinx>=1.3; extra == \"all\"->ipython[all]) (2.1.0)\n",
            "Requirement already satisfied: docutils>=0.11 in /usr/local/lib/python3.7/dist-packages (from Sphinx>=1.3; extra == \"all\"->ipython[all]) (0.16)\n",
            "Requirement already satisfied: sphinxcontrib-websupport in /usr/local/lib/python3.7/dist-packages (from Sphinx>=1.3; extra == \"all\"->ipython[all]) (1.2.4)\n",
            "Requirement already satisfied: packaging in /usr/local/lib/python3.7/dist-packages (from Sphinx>=1.3; extra == \"all\"->ipython[all]) (20.9)\n",
            "Requirement already satisfied: babel!=2.0,>=1.3 in /usr/local/lib/python3.7/dist-packages (from Sphinx>=1.3; extra == \"all\"->ipython[all]) (2.9.0)\n",
            "Requirement already satisfied: imagesize in /usr/local/lib/python3.7/dist-packages (from Sphinx>=1.3; extra == \"all\"->ipython[all]) (1.2.0)\n",
            "Requirement already satisfied: python-dateutil>=2.1 in /usr/local/lib/python3.7/dist-packages (from ipyparallel; extra == \"all\"->ipython[all]) (2.8.1)\n",
            "Requirement already satisfied: idna<3,>=2.5 in /usr/local/lib/python3.7/dist-packages (from requests; extra == \"all\"->ipython[all]) (2.10)\n",
            "Requirement already satisfied: chardet<4,>=3.0.2 in /usr/local/lib/python3.7/dist-packages (from requests; extra == \"all\"->ipython[all]) (3.0.4)\n",
            "Requirement already satisfied: urllib3!=1.25.0,!=1.25.1,<1.26,>=1.21.1 in /usr/local/lib/python3.7/dist-packages (from requests; extra == \"all\"->ipython[all]) (1.24.3)\n",
            "Requirement already satisfied: certifi>=2017.4.17 in /usr/local/lib/python3.7/dist-packages (from requests; extra == \"all\"->ipython[all]) (2020.12.5)\n",
            "Requirement already satisfied: defusedxml in /usr/local/lib/python3.7/dist-packages (from nbconvert; extra == \"all\"->ipython[all]) (0.7.1)\n",
            "Requirement already satisfied: entrypoints>=0.2.2 in /usr/local/lib/python3.7/dist-packages (from nbconvert; extra == \"all\"->ipython[all]) (0.3)\n",
            "Requirement already satisfied: mistune<2,>=0.8.1 in /usr/local/lib/python3.7/dist-packages (from nbconvert; extra == \"all\"->ipython[all]) (0.8.4)\n",
            "Requirement already satisfied: bleach in /usr/local/lib/python3.7/dist-packages (from nbconvert; extra == \"all\"->ipython[all]) (3.3.0)\n",
            "Requirement already satisfied: pandocfilters>=1.4.1 in /usr/local/lib/python3.7/dist-packages (from nbconvert; extra == \"all\"->ipython[all]) (1.4.3)\n",
            "Requirement already satisfied: jupyterlab-widgets>=1.0.0; python_version >= \"3.6\" in /usr/local/lib/python3.7/dist-packages (from ipywidgets; extra == \"all\"->ipython[all]) (1.0.0)\n",
            "Requirement already satisfied: widgetsnbextension~=3.5.0 in /usr/local/lib/python3.7/dist-packages (from ipywidgets; extra == \"all\"->ipython[all]) (3.5.1)\n",
            "Requirement already satisfied: MarkupSafe>=0.23 in /usr/local/lib/python3.7/dist-packages (from jinja2->notebook; extra == \"all\"->ipython[all]) (1.1.1)\n",
            "Requirement already satisfied: sphinxcontrib-serializinghtml in /usr/local/lib/python3.7/dist-packages (from sphinxcontrib-websupport->Sphinx>=1.3; extra == \"all\"->ipython[all]) (1.1.4)\n",
            "Requirement already satisfied: pyparsing>=2.0.2 in /usr/local/lib/python3.7/dist-packages (from packaging->Sphinx>=1.3; extra == \"all\"->ipython[all]) (2.4.7)\n",
            "Requirement already satisfied: pytz>=2015.7 in /usr/local/lib/python3.7/dist-packages (from babel!=2.0,>=1.3->Sphinx>=1.3; extra == \"all\"->ipython[all]) (2018.9)\n",
            "Requirement already satisfied: webencodings in /usr/local/lib/python3.7/dist-packages (from bleach->nbconvert; extra == \"all\"->ipython[all]) (0.5.1)\n",
            "Installing collected packages: ipyparallel, nose\n",
            "Successfully installed ipyparallel-6.3.0 nose-1.3.7\n"
          ],
          "name": "stdout"
        }
      ]
    },
    {
      "cell_type": "code",
      "metadata": {
        "colab": {
          "base_uri": "https://localhost:8080/"
        },
        "id": "65PfnXmXb6zU",
        "outputId": "5bac9aa0-387f-4b87-c7b5-100aaccbbd50"
      },
      "source": [
        "from google.colab import drive\n",
        "import os\n",
        "drive.mount('/content/drive')"
      ],
      "execution_count": 4,
      "outputs": [
        {
          "output_type": "stream",
          "text": [
            "Drive already mounted at /content/drive; to attempt to forcibly remount, call drive.mount(\"/content/drive\", force_remount=True).\n"
          ],
          "name": "stdout"
        }
      ]
    },
    {
      "cell_type": "code",
      "metadata": {
        "colab": {
          "base_uri": "https://localhost:8080/"
        },
        "id": "y7hHlW4Caf60",
        "outputId": "2c171cc2-e356-4967-dd59-bebf1cf5f4e1"
      },
      "source": [
        "!pwd\n",
        "!ls"
      ],
      "execution_count": null,
      "outputs": [
        {
          "output_type": "stream",
          "text": [
            "/content\n",
            "drive  sample_data\n"
          ],
          "name": "stdout"
        }
      ]
    },
    {
      "cell_type": "code",
      "metadata": {
        "colab": {
          "base_uri": "https://localhost:8080/"
        },
        "id": "EWFmqjdDfeTH",
        "outputId": "1ed2123c-46f3-495a-c503-05f6a754f67b"
      },
      "source": [
        "os.chdir('/content/drive/My Drive/CA683Project')\n",
        "!pwd\n",
        "!ls"
      ],
      "execution_count": 5,
      "outputs": [
        {
          "output_type": "stream",
          "text": [
            "/content/drive/My Drive/CA683Project\n",
            "DisposableIncomebyState.csv   DisposableIncomeGasPriceByState.csv\n",
            "DisposableIncomebyState.xlsx  used_car_sales.csv\n"
          ],
          "name": "stdout"
        }
      ]
    },
    {
      "cell_type": "code",
      "metadata": {
        "id": "eRwISLjAHJeq"
      },
      "source": [
        "df = pd.read_csv('used_car_sales.csv',sep=',')\n"
      ],
      "execution_count": 6,
      "outputs": []
    },
    {
      "cell_type": "code",
      "metadata": {
        "id": "HbSgSjNZNprF",
        "colab": {
          "base_uri": "https://localhost:8080/",
          "height": 204
        },
        "outputId": "03dbaf62-1115-4c5d-c22b-8d578b10a3ff"
      },
      "source": [
        "df.head()"
      ],
      "execution_count": 8,
      "outputs": [
        {
          "output_type": "execute_result",
          "data": {
            "text/html": [
              "<div>\n",
              "<style scoped>\n",
              "    .dataframe tbody tr th:only-of-type {\n",
              "        vertical-align: middle;\n",
              "    }\n",
              "\n",
              "    .dataframe tbody tr th {\n",
              "        vertical-align: top;\n",
              "    }\n",
              "\n",
              "    .dataframe thead th {\n",
              "        text-align: right;\n",
              "    }\n",
              "</style>\n",
              "<table border=\"1\" class=\"dataframe\">\n",
              "  <thead>\n",
              "    <tr style=\"text-align: right;\">\n",
              "      <th></th>\n",
              "      <th>ID</th>\n",
              "      <th>pricesold</th>\n",
              "      <th>yearsold</th>\n",
              "      <th>zipcode</th>\n",
              "      <th>Mileage</th>\n",
              "      <th>Make</th>\n",
              "      <th>Model</th>\n",
              "      <th>Year</th>\n",
              "      <th>Trim</th>\n",
              "      <th>Engine</th>\n",
              "      <th>BodyType</th>\n",
              "      <th>NumCylinders</th>\n",
              "      <th>DriveType</th>\n",
              "    </tr>\n",
              "  </thead>\n",
              "  <tbody>\n",
              "    <tr>\n",
              "      <th>0</th>\n",
              "      <td>137178</td>\n",
              "      <td>7500</td>\n",
              "      <td>2020</td>\n",
              "      <td>786**</td>\n",
              "      <td>84430</td>\n",
              "      <td>Ford</td>\n",
              "      <td>Mustang</td>\n",
              "      <td>1988</td>\n",
              "      <td>LX</td>\n",
              "      <td>5.0L Gas V8</td>\n",
              "      <td>Sedan</td>\n",
              "      <td>0</td>\n",
              "      <td>RWD</td>\n",
              "    </tr>\n",
              "    <tr>\n",
              "      <th>1</th>\n",
              "      <td>96705</td>\n",
              "      <td>15000</td>\n",
              "      <td>2019</td>\n",
              "      <td>81006</td>\n",
              "      <td>0</td>\n",
              "      <td>Replica/Kit Makes</td>\n",
              "      <td>Jaguar Beck Lister</td>\n",
              "      <td>1958</td>\n",
              "      <td>NaN</td>\n",
              "      <td>383 Fuel injected</td>\n",
              "      <td>Convertible</td>\n",
              "      <td>8</td>\n",
              "      <td>RWD</td>\n",
              "    </tr>\n",
              "    <tr>\n",
              "      <th>2</th>\n",
              "      <td>119660</td>\n",
              "      <td>8750</td>\n",
              "      <td>2020</td>\n",
              "      <td>33449</td>\n",
              "      <td>55000</td>\n",
              "      <td>Jaguar</td>\n",
              "      <td>XJS</td>\n",
              "      <td>1995</td>\n",
              "      <td>2+2 Cabriolet</td>\n",
              "      <td>4.0L In-Line 6 Cylinder</td>\n",
              "      <td>Convertible</td>\n",
              "      <td>6</td>\n",
              "      <td>RWD</td>\n",
              "    </tr>\n",
              "    <tr>\n",
              "      <th>3</th>\n",
              "      <td>80773</td>\n",
              "      <td>11600</td>\n",
              "      <td>2019</td>\n",
              "      <td>07852</td>\n",
              "      <td>97200</td>\n",
              "      <td>Ford</td>\n",
              "      <td>Mustang</td>\n",
              "      <td>1968</td>\n",
              "      <td>Stock</td>\n",
              "      <td>289 cu. in. V8</td>\n",
              "      <td>Coupe</td>\n",
              "      <td>8</td>\n",
              "      <td>RWD</td>\n",
              "    </tr>\n",
              "    <tr>\n",
              "      <th>4</th>\n",
              "      <td>64287</td>\n",
              "      <td>44000</td>\n",
              "      <td>2019</td>\n",
              "      <td>07728</td>\n",
              "      <td>40703</td>\n",
              "      <td>Porsche</td>\n",
              "      <td>911</td>\n",
              "      <td>2002</td>\n",
              "      <td>Turbo X-50</td>\n",
              "      <td>3.6L</td>\n",
              "      <td>Coupe</td>\n",
              "      <td>6</td>\n",
              "      <td>AWD</td>\n",
              "    </tr>\n",
              "  </tbody>\n",
              "</table>\n",
              "</div>"
            ],
            "text/plain": [
              "       ID  pricesold  yearsold  ...     BodyType  NumCylinders DriveType\n",
              "0  137178       7500      2020  ...        Sedan             0       RWD\n",
              "1   96705      15000      2019  ...  Convertible             8       RWD\n",
              "2  119660       8750      2020  ...  Convertible             6       RWD\n",
              "3   80773      11600      2019  ...        Coupe             8       RWD\n",
              "4   64287      44000      2019  ...        Coupe             6       AWD\n",
              "\n",
              "[5 rows x 13 columns]"
            ]
          },
          "metadata": {
            "tags": []
          },
          "execution_count": 8
        }
      ]
    },
    {
      "cell_type": "markdown",
      "metadata": {
        "id": "ZDudg-cvKYKH"
      },
      "source": [
        "### Read in Disposable income per state"
      ]
    },
    {
      "cell_type": "markdown",
      "metadata": {
        "id": "3y3p2DB_1mVf"
      },
      "source": [
        "create this Dataframe to capture the yearly disposable income per state and Gas price per state. This will be combined with our car sales dataframe at a later stage."
      ]
    },
    {
      "cell_type": "code",
      "metadata": {
        "id": "3HqPj4110QKA"
      },
      "source": [
        "df_Disposable_income_Gas_price = pd.read_csv('DisposableIncomeGasPriceByState.csv',usecols=['State','Disp_Inc_2015','Disp_Inc_2016','Disp_Inc_2017','Disp_Inc_2018','Disp_Inc_2019','Disp_Inc_2020','Gas_Price_2016','Gas_Price_2017','Gas_Price_2018','Gas_Price_2019','Gas_Price_2020'])"
      ],
      "execution_count": 11,
      "outputs": []
    },
    {
      "cell_type": "code",
      "metadata": {
        "id": "axfRwpMG0Uim"
      },
      "source": [
        "df_Disposable_income_Gas_price.head(100)"
      ],
      "execution_count": null,
      "outputs": []
    },
    {
      "cell_type": "markdown",
      "metadata": {
        "id": "eTNZUS3VJbjO"
      },
      "source": [
        "### Zip Code Manipulation"
      ]
    },
    {
      "cell_type": "markdown",
      "metadata": {
        "id": "JBjq_y9ACs6J"
      },
      "source": [
        "ZIP Codes are numbered with the first digit representing a certain group of U.S. states, the second and third digits together representing a region in that group (or perhaps a large city) and the fourth and fifth digits representing a group of delivery addresses within that region.\n",
        "Therefore for the purpose of this exercise, we can take the first 3 digits of the zipcode as a meaningful represenatation of an area."
      ]
    },
    {
      "cell_type": "code",
      "metadata": {
        "id": "Q-zzRqUDcdRJ"
      },
      "source": [
        "# firstly ensure that any empty strings are replaced with NAN in zipcode coloumn\n",
        "df['zipcode'].replace('', np.nan, inplace = True)\n",
        "zipcode_nan = len(df['zipcode']) - df['zipcode'].count()\n",
        "print ( 'There are ', zipcode_nan , ' entries with Not A Number (NAN) entries in the zipcode coloumn')\n",
        "\n",
        "# drop the null values in zipcode coloumn\n",
        "df.dropna(subset=['zipcode'], inplace= True)\n",
        "\n",
        "# strip of last characters of the zipcode and keep the first 3 characters\n",
        "df['cleaned_zipcode'] = df.zipcode.apply(lambda x: x[:3])\n",
        "\n",
        "# ensure that only numercic values are in Zipcode and replace all others with NAN\n",
        "# Note : this code removes the leading zeros from the zipcodes.\n",
        "df['cleaned_zipcode'] = pd.to_numeric(df.cleaned_zipcode, errors ='coerce', downcast= 'signed')\n",
        "df.dropna(subset=['cleaned_zipcode'], inplace= True)\n"
      ],
      "execution_count": null,
      "outputs": []
    },
    {
      "cell_type": "code",
      "metadata": {
        "colab": {
          "base_uri": "https://localhost:8080/"
        },
        "id": "4lglxFxiTIWr",
        "outputId": "bc9cafa4-0be5-45a6-d6b1-925cff094a7c"
      },
      "source": [
        "# print(df.cleaned_zipcode)\n",
        "print(\"The count of unique zipcodes in this Dataframe is \",df.cleaned_zipcode.nunique())"
      ],
      "execution_count": 14,
      "outputs": [
        {
          "output_type": "stream",
          "text": [
            "The count of unique zipcodes in this Dataframe is  897\n"
          ],
          "name": "stdout"
        }
      ]
    },
    {
      "cell_type": "markdown",
      "metadata": {
        "id": "s8QdzTfJvDd8"
      },
      "source": [
        "Run a sanity check to ensure that the cleaned zipcode has the first 3 digits of the old zipcode"
      ]
    },
    {
      "cell_type": "code",
      "metadata": {
        "id": "jtNRpeBUu41p"
      },
      "source": [
        "df.head(16)"
      ],
      "execution_count": null,
      "outputs": []
    },
    {
      "cell_type": "markdown",
      "metadata": {
        "id": "LnJWQCgZJskb"
      },
      "source": [
        "### Age of Car Information to be added"
      ]
    },
    {
      "cell_type": "code",
      "metadata": {
        "id": "01eTHkKKogAf"
      },
      "source": [
        "def find_age_car (row):\n",
        "  age_car = row['yearsold'] - row ['Year']\n",
        "  return age_car"
      ],
      "execution_count": 16,
      "outputs": []
    },
    {
      "cell_type": "markdown",
      "metadata": {
        "id": "BX2nTgnjpZQ7"
      },
      "source": [
        "run the function to find age of car across entire dataframe and add a new column for Age of car at time of sale."
      ]
    },
    {
      "cell_type": "code",
      "metadata": {
        "id": "QGi4s2IHo8Ep"
      },
      "source": [
        "df['CarAgeTimeSale'] = df.apply (find_age_car, axis=1)"
      ],
      "execution_count": 17,
      "outputs": []
    },
    {
      "cell_type": "code",
      "metadata": {
        "id": "5IFKc87-XJ6P"
      },
      "source": [
        "df.head(20)"
      ],
      "execution_count": null,
      "outputs": []
    },
    {
      "cell_type": "markdown",
      "metadata": {
        "id": "cNerH15ILF6O"
      },
      "source": [
        "### Break Zipcodes down to State level"
      ]
    },
    {
      "cell_type": "markdown",
      "metadata": {
        "id": "NUt_cJ0ELLgs"
      },
      "source": [
        "the original dataset for car sales came with ZipCodes. We propose to break this down by state to allow other state level data to be considered. i.e. disposable income at a state by state level"
      ]
    },
    {
      "cell_type": "code",
      "metadata": {
        "id": "Z3lJ03SHNUhI"
      },
      "source": [
        "def zipcode_to_state(row):\n",
        "  zipcode = row['cleaned_zipcode']\n",
        "  if zipcode in range(350,370):\n",
        "    return 'Alabamba'\n",
        "  elif zipcode in range(995,1000):\n",
        "    return 'Alaska'\n",
        "  elif zipcode in range(850,866):\n",
        "    return 'Arizona'\n",
        "  elif zipcode in range(716,730):\n",
        "    return 'Arkansas'\n",
        "  elif zipcode in range(900,962):\n",
        "    return 'California'\n",
        "  elif zipcode in range(800,817):\n",
        "    return 'Colorado'\n",
        "  elif zipcode in range(60,70):\n",
        "    return 'Connecticut'\n",
        "  elif zipcode in range(197,200):\n",
        "    return 'Delaware'\n",
        "  elif zipcode in range(320,350):\n",
        "    return 'Florida'\n",
        "  elif zipcode in range(300,320):\n",
        "    return 'Georgia'\n",
        "  elif zipcode in range(398,400):\n",
        "    return 'Georgia'\n",
        "  elif zipcode in range(967,969):\n",
        "    return 'Hawaii'\n",
        "  elif zipcode in range(832,839):\n",
        "    return 'Idaho'\n",
        "  elif zipcode in range(600,630):\n",
        "    return 'Illinois'\n",
        "  elif zipcode in range(460,480):\n",
        "    return 'Indiana'\n",
        "  elif zipcode in range(500,529):\n",
        "    return 'Iowa'\n",
        "  elif zipcode in range(660,680):\n",
        "    return 'Kansas'\n",
        "  elif zipcode in range(400,428):\n",
        "    return 'Kentucky'\n",
        "  elif zipcode in range(700,715):\n",
        "    return 'Louisiana'\n",
        "  elif zipcode in range(39,50):\n",
        "    return 'Maine'\n",
        "  elif zipcode in range(205,220):\n",
        "    return 'Maryland'\n",
        "  elif zipcode in range(10,56):\n",
        "    return 'Massachusetts'\n",
        "  elif zipcode in range(480,500):\n",
        "    return 'Michigan'\n",
        "  elif zipcode in range(550,568):\n",
        "    return 'Minnesota'\n",
        "  elif zipcode in range(386,398):\n",
        "    return 'Mississippi'\n",
        "  elif zipcode in range(630,659):\n",
        "    return 'Missouri'\n",
        "  elif zipcode in range(590,600):\n",
        "    return 'Montana'\n",
        "  elif zipcode in range(680,694):\n",
        "    return 'Nebraska'\n",
        "  elif zipcode in range(889,899):\n",
        "    return 'Nevada'\n",
        "  elif zipcode in range(30,39):\n",
        "    return 'New Hampshire'\n",
        "  elif zipcode in range(70,90):\n",
        "    return 'New Jersey'\n",
        "  elif zipcode in range(870,885):\n",
        "    return 'New Mexico'  \n",
        "  elif zipcode in range(5,6):\n",
        "    return 'New York' \n",
        "  elif zipcode in range(100,150):\n",
        "    return 'New York'\n",
        "  elif zipcode in range(270,290):\n",
        "    return 'North Carolina'\n",
        "  elif zipcode in range(580,589):\n",
        "    return 'North Dakota'\n",
        "  elif zipcode in range(430,460):\n",
        "    return 'Ohio'\n",
        "  elif zipcode in range(730,750):\n",
        "    return 'Oklahoma'\n",
        "  elif zipcode in range(970,980):\n",
        "    return 'Oregon'\n",
        "  elif zipcode in range(150,197):\n",
        "    return 'Pennsylvania'\n",
        "  elif zipcode in range(6,10):\n",
        "    return 'Puerto Rico'\n",
        "  elif zipcode in range(28,30):\n",
        "    return 'Rhode Island'  \n",
        "  elif zipcode in range(290,300):\n",
        "    return 'South Carolina' \n",
        "  elif zipcode in range(570,578):\n",
        "    return 'South Dakota'\n",
        "  elif zipcode in range(370,386):\n",
        "    return 'Tennessee'\n",
        "  elif zipcode in range(733,800):\n",
        "    return 'Texas'\n",
        "  elif zipcode in range(885,886):\n",
        "    return 'Texas'\n",
        "  elif zipcode in range(840,848):\n",
        "    return 'Utah'\n",
        "  elif zipcode in range(50,60):\n",
        "    return 'Vermont'\n",
        "  elif zipcode in range(889,899):\n",
        "    return 'Virginia'\n",
        "  elif zipcode in range(220,247):\n",
        "    return 'Virginia'\n",
        "  elif zipcode in range(980,995):\n",
        "    return 'Washington'\n",
        "  elif zipcode in range(200,206):\n",
        "    return 'Washington DC'\n",
        "  elif zipcode in range(247,269):\n",
        "    return 'West Virginia'  \n",
        "  elif zipcode in range(530,550):\n",
        "    return 'Wisconsin'\n",
        "  elif zipcode in range(820,835):\n",
        "    return 'Wyoming'\n",
        "  else:\n",
        "    return 'StateUnknown'"
      ],
      "execution_count": 55,
      "outputs": []
    },
    {
      "cell_type": "code",
      "metadata": {
        "id": "iPJB0R9cPC4W"
      },
      "source": [
        "df['State'] = df.apply (zipcode_to_state, axis=1)"
      ],
      "execution_count": 56,
      "outputs": []
    },
    {
      "cell_type": "code",
      "metadata": {
        "colab": {
          "base_uri": "https://localhost:8080/",
          "height": 543
        },
        "id": "RGWAL0u_QUS7",
        "outputId": "b3aa6f87-046f-4eee-88dd-6729d8c89aea"
      },
      "source": [
        "df.head(10)"
      ],
      "execution_count": 57,
      "outputs": [
        {
          "output_type": "execute_result",
          "data": {
            "text/html": [
              "<div>\n",
              "<style scoped>\n",
              "    .dataframe tbody tr th:only-of-type {\n",
              "        vertical-align: middle;\n",
              "    }\n",
              "\n",
              "    .dataframe tbody tr th {\n",
              "        vertical-align: top;\n",
              "    }\n",
              "\n",
              "    .dataframe thead th {\n",
              "        text-align: right;\n",
              "    }\n",
              "</style>\n",
              "<table border=\"1\" class=\"dataframe\">\n",
              "  <thead>\n",
              "    <tr style=\"text-align: right;\">\n",
              "      <th></th>\n",
              "      <th>ID</th>\n",
              "      <th>pricesold</th>\n",
              "      <th>yearsold</th>\n",
              "      <th>zipcode</th>\n",
              "      <th>Mileage</th>\n",
              "      <th>Make</th>\n",
              "      <th>Model</th>\n",
              "      <th>Year</th>\n",
              "      <th>Trim</th>\n",
              "      <th>Engine</th>\n",
              "      <th>BodyType</th>\n",
              "      <th>NumCylinders</th>\n",
              "      <th>DriveType</th>\n",
              "      <th>cleaned_zipcode</th>\n",
              "      <th>CarAgeTimeSale</th>\n",
              "      <th>State</th>\n",
              "    </tr>\n",
              "    <tr>\n",
              "      <th>State</th>\n",
              "      <th></th>\n",
              "      <th></th>\n",
              "      <th></th>\n",
              "      <th></th>\n",
              "      <th></th>\n",
              "      <th></th>\n",
              "      <th></th>\n",
              "      <th></th>\n",
              "      <th></th>\n",
              "      <th></th>\n",
              "      <th></th>\n",
              "      <th></th>\n",
              "      <th></th>\n",
              "      <th></th>\n",
              "      <th></th>\n",
              "      <th></th>\n",
              "    </tr>\n",
              "  </thead>\n",
              "  <tbody>\n",
              "    <tr>\n",
              "      <th>Texas</th>\n",
              "      <td>137178</td>\n",
              "      <td>7500</td>\n",
              "      <td>2020</td>\n",
              "      <td>786**</td>\n",
              "      <td>84430</td>\n",
              "      <td>Ford</td>\n",
              "      <td>Mustang</td>\n",
              "      <td>1988</td>\n",
              "      <td>LX</td>\n",
              "      <td>5.0L Gas V8</td>\n",
              "      <td>Sedan</td>\n",
              "      <td>0</td>\n",
              "      <td>RWD</td>\n",
              "      <td>786.0</td>\n",
              "      <td>32</td>\n",
              "      <td>Texas</td>\n",
              "    </tr>\n",
              "    <tr>\n",
              "      <th>Colorado</th>\n",
              "      <td>96705</td>\n",
              "      <td>15000</td>\n",
              "      <td>2019</td>\n",
              "      <td>81006</td>\n",
              "      <td>0</td>\n",
              "      <td>Replica/Kit Makes</td>\n",
              "      <td>Jaguar Beck Lister</td>\n",
              "      <td>1958</td>\n",
              "      <td>NaN</td>\n",
              "      <td>383 Fuel injected</td>\n",
              "      <td>Convertible</td>\n",
              "      <td>8</td>\n",
              "      <td>RWD</td>\n",
              "      <td>810.0</td>\n",
              "      <td>61</td>\n",
              "      <td>Colorado</td>\n",
              "    </tr>\n",
              "    <tr>\n",
              "      <th>Florida</th>\n",
              "      <td>119660</td>\n",
              "      <td>8750</td>\n",
              "      <td>2020</td>\n",
              "      <td>33449</td>\n",
              "      <td>55000</td>\n",
              "      <td>Jaguar</td>\n",
              "      <td>XJS</td>\n",
              "      <td>1995</td>\n",
              "      <td>2+2 Cabriolet</td>\n",
              "      <td>4.0L In-Line 6 Cylinder</td>\n",
              "      <td>Convertible</td>\n",
              "      <td>6</td>\n",
              "      <td>RWD</td>\n",
              "      <td>334.0</td>\n",
              "      <td>25</td>\n",
              "      <td>Florida</td>\n",
              "    </tr>\n",
              "    <tr>\n",
              "      <th>New Jersey</th>\n",
              "      <td>80773</td>\n",
              "      <td>11600</td>\n",
              "      <td>2019</td>\n",
              "      <td>07852</td>\n",
              "      <td>97200</td>\n",
              "      <td>Ford</td>\n",
              "      <td>Mustang</td>\n",
              "      <td>1968</td>\n",
              "      <td>Stock</td>\n",
              "      <td>289 cu. in. V8</td>\n",
              "      <td>Coupe</td>\n",
              "      <td>8</td>\n",
              "      <td>RWD</td>\n",
              "      <td>78.0</td>\n",
              "      <td>51</td>\n",
              "      <td>New Jersey</td>\n",
              "    </tr>\n",
              "    <tr>\n",
              "      <th>New Jersey</th>\n",
              "      <td>64287</td>\n",
              "      <td>44000</td>\n",
              "      <td>2019</td>\n",
              "      <td>07728</td>\n",
              "      <td>40703</td>\n",
              "      <td>Porsche</td>\n",
              "      <td>911</td>\n",
              "      <td>2002</td>\n",
              "      <td>Turbo X-50</td>\n",
              "      <td>3.6L</td>\n",
              "      <td>Coupe</td>\n",
              "      <td>6</td>\n",
              "      <td>AWD</td>\n",
              "      <td>77.0</td>\n",
              "      <td>17</td>\n",
              "      <td>New Jersey</td>\n",
              "    </tr>\n",
              "    <tr>\n",
              "      <th>Indiana</th>\n",
              "      <td>132695</td>\n",
              "      <td>950</td>\n",
              "      <td>2020</td>\n",
              "      <td>462**</td>\n",
              "      <td>71300</td>\n",
              "      <td>Mercury</td>\n",
              "      <td>Montclair</td>\n",
              "      <td>1965</td>\n",
              "      <td>NaN</td>\n",
              "      <td>NO ENGINE</td>\n",
              "      <td>Sedan</td>\n",
              "      <td>0</td>\n",
              "      <td>RWD</td>\n",
              "      <td>462.0</td>\n",
              "      <td>55</td>\n",
              "      <td>Indiana</td>\n",
              "    </tr>\n",
              "    <tr>\n",
              "      <th>New York</th>\n",
              "      <td>132829</td>\n",
              "      <td>950</td>\n",
              "      <td>2020</td>\n",
              "      <td>105**</td>\n",
              "      <td>71300</td>\n",
              "      <td>Mercury</td>\n",
              "      <td>Montclair</td>\n",
              "      <td>1965</td>\n",
              "      <td>NaN</td>\n",
              "      <td>NaN</td>\n",
              "      <td>Sedan</td>\n",
              "      <td>0</td>\n",
              "      <td>NaN</td>\n",
              "      <td>105.0</td>\n",
              "      <td>55</td>\n",
              "      <td>New York</td>\n",
              "    </tr>\n",
              "    <tr>\n",
              "      <th>New Jersey</th>\n",
              "      <td>5250</td>\n",
              "      <td>70000</td>\n",
              "      <td>2019</td>\n",
              "      <td>07627</td>\n",
              "      <td>6500</td>\n",
              "      <td>Land Rover</td>\n",
              "      <td>Defender</td>\n",
              "      <td>1997</td>\n",
              "      <td>NaN</td>\n",
              "      <td>4.0 Liter Fuel Injected V8</td>\n",
              "      <td>NaN</td>\n",
              "      <td>0</td>\n",
              "      <td>4WD</td>\n",
              "      <td>76.0</td>\n",
              "      <td>22</td>\n",
              "      <td>New Jersey</td>\n",
              "    </tr>\n",
              "    <tr>\n",
              "      <th>New Jersey</th>\n",
              "      <td>29023</td>\n",
              "      <td>1330</td>\n",
              "      <td>2019</td>\n",
              "      <td>07043</td>\n",
              "      <td>167000</td>\n",
              "      <td>Honda</td>\n",
              "      <td>Civic</td>\n",
              "      <td>2001</td>\n",
              "      <td>EX</td>\n",
              "      <td>NaN</td>\n",
              "      <td>Coupe</td>\n",
              "      <td>4</td>\n",
              "      <td>FWD</td>\n",
              "      <td>70.0</td>\n",
              "      <td>18</td>\n",
              "      <td>New Jersey</td>\n",
              "    </tr>\n",
              "    <tr>\n",
              "      <th>Florida</th>\n",
              "      <td>80293</td>\n",
              "      <td>25200</td>\n",
              "      <td>2019</td>\n",
              "      <td>33759</td>\n",
              "      <td>15000</td>\n",
              "      <td>Pontiac</td>\n",
              "      <td>GTO</td>\n",
              "      <td>1970</td>\n",
              "      <td>NaN</td>\n",
              "      <td>NaN</td>\n",
              "      <td>NaN</td>\n",
              "      <td>0</td>\n",
              "      <td>NaN</td>\n",
              "      <td>337.0</td>\n",
              "      <td>49</td>\n",
              "      <td>Florida</td>\n",
              "    </tr>\n",
              "  </tbody>\n",
              "</table>\n",
              "</div>"
            ],
            "text/plain": [
              "                ID  pricesold  yearsold zipcode  Mileage               Make  \\\n",
              "State                                                                         \n",
              "Texas       137178       7500      2020   786**    84430               Ford   \n",
              "Colorado     96705      15000      2019   81006        0  Replica/Kit Makes   \n",
              "Florida     119660       8750      2020   33449    55000             Jaguar   \n",
              "New Jersey   80773      11600      2019   07852    97200               Ford   \n",
              "New Jersey   64287      44000      2019   07728    40703            Porsche   \n",
              "Indiana     132695        950      2020   462**    71300            Mercury   \n",
              "New York    132829        950      2020   105**    71300            Mercury   \n",
              "New Jersey    5250      70000      2019   07627     6500         Land Rover   \n",
              "New Jersey   29023       1330      2019   07043   167000              Honda   \n",
              "Florida      80293      25200      2019   33759    15000            Pontiac   \n",
              "\n",
              "                         Model  Year           Trim  \\\n",
              "State                                                 \n",
              "Texas                  Mustang  1988             LX   \n",
              "Colorado    Jaguar Beck Lister  1958            NaN   \n",
              "Florida                    XJS  1995  2+2 Cabriolet   \n",
              "New Jersey             Mustang  1968          Stock   \n",
              "New Jersey                 911  2002     Turbo X-50   \n",
              "Indiana              Montclair  1965            NaN   \n",
              "New York             Montclair  1965            NaN   \n",
              "New Jersey            Defender  1997            NaN   \n",
              "New Jersey               Civic  2001             EX   \n",
              "Florida                    GTO  1970            NaN   \n",
              "\n",
              "                                Engine     BodyType  NumCylinders DriveType  \\\n",
              "State                                                                         \n",
              "Texas                      5.0L Gas V8        Sedan             0       RWD   \n",
              "Colorado             383 Fuel injected  Convertible             8       RWD   \n",
              "Florida        4.0L In-Line 6 Cylinder  Convertible             6       RWD   \n",
              "New Jersey              289 cu. in. V8        Coupe             8       RWD   \n",
              "New Jersey                        3.6L        Coupe             6       AWD   \n",
              "Indiana                      NO ENGINE        Sedan             0       RWD   \n",
              "New York                           NaN        Sedan             0       NaN   \n",
              "New Jersey  4.0 Liter Fuel Injected V8          NaN             0       4WD   \n",
              "New Jersey                         NaN        Coupe             4       FWD   \n",
              "Florida                            NaN          NaN             0       NaN   \n",
              "\n",
              "            cleaned_zipcode  CarAgeTimeSale       State  \n",
              "State                                                    \n",
              "Texas                 786.0              32       Texas  \n",
              "Colorado              810.0              61    Colorado  \n",
              "Florida               334.0              25     Florida  \n",
              "New Jersey             78.0              51  New Jersey  \n",
              "New Jersey             77.0              17  New Jersey  \n",
              "Indiana               462.0              55     Indiana  \n",
              "New York              105.0              55    New York  \n",
              "New Jersey             76.0              22  New Jersey  \n",
              "New Jersey             70.0              18  New Jersey  \n",
              "Florida               337.0              49     Florida  "
            ]
          },
          "metadata": {
            "tags": []
          },
          "execution_count": 57
        }
      ]
    },
    {
      "cell_type": "markdown",
      "metadata": {
        "id": "ltmCS5FxoUMW"
      },
      "source": [
        "we need to check that no zipcode was missed and count the states that came back as 'StateUnknown'"
      ]
    },
    {
      "cell_type": "code",
      "metadata": {
        "colab": {
          "base_uri": "https://localhost:8080/"
        },
        "id": "XInbmom7nnFF",
        "outputId": "e9c9998a-7969-4a9c-ac4e-0e11f61d2b54"
      },
      "source": [
        "df['State'].value_counts()"
      ],
      "execution_count": 58,
      "outputs": [
        {
          "output_type": "execute_result",
          "data": {
            "text/plain": [
              "California        16968\n",
              "Florida           12441\n",
              "Pennsylvania       8841\n",
              "Texas              6986\n",
              "New York           6949\n",
              "Michigan           6679\n",
              "New Jersey         5115\n",
              "Ohio               4546\n",
              "Illinois           3621\n",
              "Massachusetts      2988\n",
              "Georgia            2861\n",
              "Maryland           2826\n",
              "Washington         2816\n",
              "North Carolina     2604\n",
              "Indiana            2510\n",
              "Virginia           2297\n",
              "Arizona            2242\n",
              "Tennessee          1984\n",
              "Colorado           1871\n",
              "Connecticut        1808\n",
              "Oregon             1756\n",
              "Missouri           1613\n",
              "Nevada             1599\n",
              "Kentucky           1407\n",
              "Wisconsin          1388\n",
              "South Carolina     1380\n",
              "Minnesota          1128\n",
              "Alabamba           1052\n",
              "Iowa                914\n",
              "Idaho               847\n",
              "Kansas              834\n",
              "Oklahoma            833\n",
              "Utah                759\n",
              "Mississippi         746\n",
              "Nebraska            745\n",
              "Arkansas            607\n",
              "Louisiana           592\n",
              "New Mexico          536\n",
              "West Virginia       512\n",
              "Montana             441\n",
              "Delaware            395\n",
              "Washington DC       355\n",
              "Maine               263\n",
              "Wyoming             218\n",
              "North Dakota        214\n",
              "South Dakota        180\n",
              "Hawaii               68\n",
              "Vermont              48\n",
              "Alaska               20\n",
              "Puerto Rico           2\n",
              "Name: State, dtype: int64"
            ]
          },
          "metadata": {
            "tags": []
          },
          "execution_count": 58
        }
      ]
    },
    {
      "cell_type": "markdown",
      "metadata": {
        "id": "BcciP-XawCOC"
      },
      "source": [
        "we have qty * 3 states that show as state unknown. Print these for further investigation."
      ]
    },
    {
      "cell_type": "code",
      "metadata": {
        "colab": {
          "base_uri": "https://localhost:8080/"
        },
        "id": "UB-Gy-iEo8Ej",
        "outputId": "2a9f70b3-3523-4da7-b59f-8db5e138ad6c"
      },
      "source": [
        "pd.set_option('display.max_columns', None)\n",
        "print(df.loc[df['State'] == 'StateUnknown'])"
      ],
      "execution_count": 59,
      "outputs": [
        {
          "output_type": "stream",
          "text": [
            "Empty DataFrame\n",
            "Columns: [ID, pricesold, yearsold, zipcode, Mileage, Make, Model, Year, Trim, Engine, BodyType, NumCylinders, DriveType, cleaned_zipcode, CarAgeTimeSale, State]\n",
            "Index: []\n"
          ],
          "name": "stdout"
        }
      ]
    },
    {
      "cell_type": "markdown",
      "metadata": {
        "id": "QC4c_wIwvUgJ"
      },
      "source": [
        "there were 3 zipcodes that showed State unknown. Zipcode 1 is for destinations outside of USA. Zipcode 886 is not in use . Zipcode 963 is for Military bases in Japan. These 3 entries should be removed from out DataFrame."
      ]
    },
    {
      "cell_type": "code",
      "metadata": {
        "colab": {
          "base_uri": "https://localhost:8080/"
        },
        "id": "PMV909aZw5D2",
        "outputId": "0b5247d8-aa07-4b9d-8050-5f2776ea51aa"
      },
      "source": [
        "df.drop(df.loc[df['State']== 'StateUnknown'].index, inplace=True)\n",
        "pd.set_option('display.max_columns', None)\n",
        "print(df.loc[df['State'] == 'StateUnkown'])"
      ],
      "execution_count": 60,
      "outputs": [
        {
          "output_type": "stream",
          "text": [
            "Empty DataFrame\n",
            "Columns: [ID, pricesold, yearsold, zipcode, Mileage, Make, Model, Year, Trim, Engine, BodyType, NumCylinders, DriveType, cleaned_zipcode, CarAgeTimeSale, State]\n",
            "Index: []\n"
          ],
          "name": "stdout"
        }
      ]
    },
    {
      "cell_type": "markdown",
      "metadata": {
        "id": "91Wqh2Rlz_y_"
      },
      "source": [
        "### reset the index "
      ]
    },
    {
      "cell_type": "markdown",
      "metadata": {
        "id": "x4sueArZ0dEr"
      },
      "source": [
        "reset the index on this Dataframe to be the State that the car was sold in."
      ]
    },
    {
      "cell_type": "code",
      "metadata": {
        "id": "YVZOIPYzzYbD"
      },
      "source": [
        "df=df.set_index('State')\n",
        "df.head(20)"
      ],
      "execution_count": null,
      "outputs": []
    },
    {
      "cell_type": "markdown",
      "metadata": {
        "id": "EhCGL6LedC70"
      },
      "source": [
        "### join our dataframes"
      ]
    },
    {
      "cell_type": "markdown",
      "metadata": {
        "id": "BOxP2-XCdXq5"
      },
      "source": [
        "we now need to join our dataframes together to have our final dataframe that we will analysis for our project"
      ]
    },
    {
      "cell_type": "markdown",
      "metadata": {
        "id": "vnSlbu3dJ6lN"
      },
      "source": [
        "### Final cleanup of Dataframe"
      ]
    },
    {
      "cell_type": "code",
      "metadata": {
        "id": "HX3RpeMCviyP"
      },
      "source": [
        "# drop the old zipcode coloumn\n",
        "df.drop('zipcode', inplace=True, axis=1)\n",
        "df.head(10)"
      ],
      "execution_count": null,
      "outputs": []
    },
    {
      "cell_type": "code",
      "metadata": {
        "id": "EJxNsEgi4mpo"
      },
      "source": [
        "df= df.drop([\"Trim\"], axis=1)\n",
        "df= df.drop([\"Engine\"], axis=1)\n",
        "df= df.drop([\"DriveType\"], axis=1)\n",
        "df= df.drop([\"BodyType\"], axis=1)"
      ],
      "execution_count": null,
      "outputs": []
    },
    {
      "cell_type": "markdown",
      "metadata": {
        "id": "PHf-zgc6ObiD"
      },
      "source": [
        "The entry of asterisks ( * ) in zipcode proved problematic for running of linear regression model."
      ]
    },
    {
      "cell_type": "markdown",
      "metadata": {
        "id": "-Q3km2S03_ao"
      },
      "source": [
        ""
      ]
    },
    {
      "cell_type": "code",
      "metadata": {
        "id": "FiDeMQMaGIZs"
      },
      "source": [
        "df.head(20)"
      ],
      "execution_count": null,
      "outputs": []
    },
    {
      "cell_type": "markdown",
      "metadata": {
        "id": "1uvAdDgseIWG"
      },
      "source": [
        "our count for rows at this stage should be just over 122, 000 rows for the combined files in this Data Frame"
      ]
    },
    {
      "cell_type": "code",
      "metadata": {
        "colab": {
          "base_uri": "https://localhost:8080/"
        },
        "id": "QF8mSnbQf1Sf",
        "outputId": "9c8ffbbe-80e7-45f8-d502-ce0250860d2e"
      },
      "source": [
        "print(df)"
      ],
      "execution_count": null,
      "outputs": [
        {
          "output_type": "stream",
          "text": [
            "            ID  pricesold  yearsold  ...               Model  Year NumCylinders\n",
            "0       137178       7500      2020  ...             Mustang  1988            0\n",
            "1        96705      15000      2019  ...  Jaguar Beck Lister  1958            8\n",
            "2       119660       8750      2020  ...                 XJS  1995            6\n",
            "3        80773      11600      2019  ...             Mustang  1968            8\n",
            "4        64287      44000      2019  ...                 911  2002            6\n",
            "...        ...        ...       ...  ...                 ...   ...          ...\n",
            "122139   14948       4200      2019  ...             Mustang  1977            8\n",
            "122140   58814       6500      2019  ...        E-Series Van  2012            0\n",
            "122141    2156       2000      2019  ...              Bronco  1978            8\n",
            "122142   29096       2280      2019  ...            3-Series  2000            6\n",
            "122143   52391       5000      2019  ...               300ZX  1990            6\n",
            "\n",
            "[122144 rows x 8 columns]\n"
          ],
          "name": "stdout"
        }
      ]
    },
    {
      "cell_type": "markdown",
      "metadata": {
        "id": "GYJ5kWwl0WSP"
      },
      "source": [
        "## <font color = green> This section will impute values for the missing information in the DataFrame\n"
      ]
    },
    {
      "cell_type": "code",
      "metadata": {
        "colab": {
          "base_uri": "https://localhost:8080/"
        },
        "id": "f3pCA5JLzMM0",
        "outputId": "6c95095e-edf2-46d0-f9b5-d9ceab26841f"
      },
      "source": [
        "# Count total NaN at each column in a DataFrame \n",
        "print(\" \\nCount total NaN at each column in a DataFrame : \\n\\n\", \n",
        "      df.isnull().sum())"
      ],
      "execution_count": null,
      "outputs": [
        {
          "output_type": "stream",
          "text": [
            " \n",
            "Count total NaN at each column in a DataFrame : \n",
            "\n",
            " ID                0\n",
            "pricesold         0\n",
            "yearsold          0\n",
            "Mileage           0\n",
            "Make              0\n",
            "Model           573\n",
            "Year              0\n",
            "NumCylinders      0\n",
            "dtype: int64\n"
          ],
          "name": "stdout"
        }
      ]
    },
    {
      "cell_type": "code",
      "metadata": {
        "colab": {
          "base_uri": "https://localhost:8080/",
          "height": 204
        },
        "id": "_O_uofJjdOVy",
        "outputId": "8c759e7b-3265-44b6-c4d8-c42d593a7e45"
      },
      "source": [
        "df.head(5)"
      ],
      "execution_count": null,
      "outputs": [
        {
          "output_type": "execute_result",
          "data": {
            "text/html": [
              "<div>\n",
              "<style scoped>\n",
              "    .dataframe tbody tr th:only-of-type {\n",
              "        vertical-align: middle;\n",
              "    }\n",
              "\n",
              "    .dataframe tbody tr th {\n",
              "        vertical-align: top;\n",
              "    }\n",
              "\n",
              "    .dataframe thead th {\n",
              "        text-align: right;\n",
              "    }\n",
              "</style>\n",
              "<table border=\"1\" class=\"dataframe\">\n",
              "  <thead>\n",
              "    <tr style=\"text-align: right;\">\n",
              "      <th></th>\n",
              "      <th>ID</th>\n",
              "      <th>pricesold</th>\n",
              "      <th>yearsold</th>\n",
              "      <th>Mileage</th>\n",
              "      <th>Make</th>\n",
              "      <th>Model</th>\n",
              "      <th>Year</th>\n",
              "      <th>NumCylinders</th>\n",
              "    </tr>\n",
              "  </thead>\n",
              "  <tbody>\n",
              "    <tr>\n",
              "      <th>0</th>\n",
              "      <td>137178</td>\n",
              "      <td>7500</td>\n",
              "      <td>2020</td>\n",
              "      <td>84430</td>\n",
              "      <td>Ford</td>\n",
              "      <td>Mustang</td>\n",
              "      <td>1988</td>\n",
              "      <td>0</td>\n",
              "    </tr>\n",
              "    <tr>\n",
              "      <th>1</th>\n",
              "      <td>96705</td>\n",
              "      <td>15000</td>\n",
              "      <td>2019</td>\n",
              "      <td>0</td>\n",
              "      <td>Replica/Kit Makes</td>\n",
              "      <td>Jaguar Beck Lister</td>\n",
              "      <td>1958</td>\n",
              "      <td>8</td>\n",
              "    </tr>\n",
              "    <tr>\n",
              "      <th>2</th>\n",
              "      <td>119660</td>\n",
              "      <td>8750</td>\n",
              "      <td>2020</td>\n",
              "      <td>55000</td>\n",
              "      <td>Jaguar</td>\n",
              "      <td>XJS</td>\n",
              "      <td>1995</td>\n",
              "      <td>6</td>\n",
              "    </tr>\n",
              "    <tr>\n",
              "      <th>3</th>\n",
              "      <td>80773</td>\n",
              "      <td>11600</td>\n",
              "      <td>2019</td>\n",
              "      <td>97200</td>\n",
              "      <td>Ford</td>\n",
              "      <td>Mustang</td>\n",
              "      <td>1968</td>\n",
              "      <td>8</td>\n",
              "    </tr>\n",
              "    <tr>\n",
              "      <th>4</th>\n",
              "      <td>64287</td>\n",
              "      <td>44000</td>\n",
              "      <td>2019</td>\n",
              "      <td>40703</td>\n",
              "      <td>Porsche</td>\n",
              "      <td>911</td>\n",
              "      <td>2002</td>\n",
              "      <td>6</td>\n",
              "    </tr>\n",
              "  </tbody>\n",
              "</table>\n",
              "</div>"
            ],
            "text/plain": [
              "       ID  pricesold  yearsold  ...               Model  Year NumCylinders\n",
              "0  137178       7500      2020  ...             Mustang  1988            0\n",
              "1   96705      15000      2019  ...  Jaguar Beck Lister  1958            8\n",
              "2  119660       8750      2020  ...                 XJS  1995            6\n",
              "3   80773      11600      2019  ...             Mustang  1968            8\n",
              "4   64287      44000      2019  ...                 911  2002            6\n",
              "\n",
              "[5 rows x 8 columns]"
            ]
          },
          "metadata": {
            "tags": []
          },
          "execution_count": 28
        }
      ]
    },
    {
      "cell_type": "markdown",
      "metadata": {
        "id": "zP8l7auvabxD"
      },
      "source": [
        "### <b> <font color = red> We need a section of code here to impute some of these missing values."
      ]
    },
    {
      "cell_type": "markdown",
      "metadata": {
        "id": "5nX84l2MGxRD"
      },
      "source": [
        "<b> <font color = red>code needs to be created here for functions that will impute whatever values we wish to impute. This will have to be done on a per location basis......\n",
        "Also this has to be done for all values that we hope to impute.\n",
        "\n",
        "\n"
      ]
    },
    {
      "cell_type": "markdown",
      "metadata": {
        "id": "By-YGYLo1VVm"
      },
      "source": [
        "## <font color = green> Cleaning up of Dataframe before proceeding"
      ]
    },
    {
      "cell_type": "markdown",
      "metadata": {
        "id": "99eL27qi9Q3A"
      },
      "source": [
        "<b> <font color = red> we will remove rows with missing values during our testing. This ideally should not need to be done in the final setup as we will have imputed values and there should no missing rows in the DataFrame"
      ]
    },
    {
      "cell_type": "code",
      "metadata": {
        "id": "gOSKc-QIeQ3a"
      },
      "source": [
        "# remove rows with missing values\n",
        "df.dropna(axis=0, how = 'any', thresh = None, subset = None, inplace= True)\n",
        "# This should not have to be done in final version of this notebook"
      ],
      "execution_count": null,
      "outputs": []
    },
    {
      "cell_type": "markdown",
      "metadata": {
        "id": "cNuwdI13euv4"
      },
      "source": [
        "we can now replace text values with numeric values via one-hot encoding"
      ]
    },
    {
      "cell_type": "markdown",
      "metadata": {
        "id": "py2T3wAP6uea"
      },
      "source": [
        ""
      ]
    },
    {
      "cell_type": "code",
      "metadata": {
        "id": "mnvnfPQGe6ZQ"
      },
      "source": [
        "# convert non numeric entries using one hot encoding\n",
        "df=pd.get_dummies(df, columns= ['Make','Model'])"
      ],
      "execution_count": null,
      "outputs": []
    },
    {
      "cell_type": "code",
      "metadata": {
        "colab": {
          "base_uri": "https://localhost:8080/",
          "height": 493
        },
        "id": "KgNJPE9UVf2W",
        "outputId": "df551965-dfca-478b-fc56-79cb2a05da13"
      },
      "source": [
        "df.head(10)"
      ],
      "execution_count": null,
      "outputs": [
        {
          "output_type": "execute_result",
          "data": {
            "text/html": [
              "<div>\n",
              "<style scoped>\n",
              "    .dataframe tbody tr th:only-of-type {\n",
              "        vertical-align: middle;\n",
              "    }\n",
              "\n",
              "    .dataframe tbody tr th {\n",
              "        vertical-align: top;\n",
              "    }\n",
              "\n",
              "    .dataframe thead th {\n",
              "        text-align: right;\n",
              "    }\n",
              "</style>\n",
              "<table border=\"1\" class=\"dataframe\">\n",
              "  <thead>\n",
              "    <tr style=\"text-align: right;\">\n",
              "      <th></th>\n",
              "      <th>ID</th>\n",
              "      <th>pricesold</th>\n",
              "      <th>yearsold</th>\n",
              "      <th>Mileage</th>\n",
              "      <th>Year</th>\n",
              "      <th>NumCylinders</th>\n",
              "      <th>Make_1964 International</th>\n",
              "      <th>Make_300</th>\n",
              "      <th>Make_AC</th>\n",
              "      <th>Make_AM General</th>\n",
              "      <th>Make_AMC</th>\n",
              "      <th>Make_AMC / Rambler</th>\n",
              "      <th>Make_ASVE</th>\n",
              "      <th>Make_AUSTIN HEALEY</th>\n",
              "      <th>Make_Acura</th>\n",
              "      <th>Make_Aerodeck</th>\n",
              "      <th>Make_Alfa Romeo</th>\n",
              "      <th>Make_Alpine</th>\n",
              "      <th>Make_Amercan</th>\n",
              "      <th>Make_American Electric Vehicle</th>\n",
              "      <th>Make_American LaFrance</th>\n",
              "      <th>Make_American Motors</th>\n",
              "      <th>Make_Amphicar</th>\n",
              "      <th>Make_Ariel</th>\n",
              "      <th>Make_Arnolt-MG</th>\n",
              "      <th>Make_Aston Martin</th>\n",
              "      <th>Make_Auburn</th>\n",
              "      <th>Make_Audi</th>\n",
              "      <th>Make_Austin</th>\n",
              "      <th>Make_Austin Healey</th>\n",
              "      <th>Make_Austin-Healey</th>\n",
              "      <th>Make_Autobianchi</th>\n",
              "      <th>Make_Autocar</th>\n",
              "      <th>Make_Avanti</th>\n",
              "      <th>Make_BAW</th>\n",
              "      <th>Make_BISCUTER</th>\n",
              "      <th>Make_BMW</th>\n",
              "      <th>Make_BMW 3 Series</th>\n",
              "      <th>Make_BMW 335i</th>\n",
              "      <th>Make_BMW 530 Sport Pkg</th>\n",
              "      <th>...</th>\n",
              "      <th>Model_samurai</th>\n",
              "      <th>Model_savoy</th>\n",
              "      <th>Model_se</th>\n",
              "      <th>Model_sedan</th>\n",
              "      <th>Model_series 88 4x4 diesel especial station wagon</th>\n",
              "      <th>Model_side by side</th>\n",
              "      <th>Model_silverado 3500 HD LTZ</th>\n",
              "      <th>Model_solara</th>\n",
              "      <th>Model_speed 6</th>\n",
              "      <th>Model_spring</th>\n",
              "      <th>Model_sr5</th>\n",
              "      <th>Model_stag</th>\n",
              "      <th>Model_station wagon</th>\n",
              "      <th>Model_stinger</th>\n",
              "      <th>Model_street rod</th>\n",
              "      <th>Model_sunchaser</th>\n",
              "      <th>Model_sundance</th>\n",
              "      <th>Model_super beetle 2.0 turbo subaru wrx</th>\n",
              "      <th>Model_super blue 6</th>\n",
              "      <th>Model_super v63</th>\n",
              "      <th>Model_t bucket</th>\n",
              "      <th>Model_tC</th>\n",
              "      <th>Model_tasca</th>\n",
              "      <th>Model_three window coupe</th>\n",
              "      <th>Model_town &amp; country</th>\n",
              "      <th>Model_truck</th>\n",
              "      <th>Model_truck  620</th>\n",
              "      <th>Model_tt quattro</th>\n",
              "      <th>Model_type 2</th>\n",
              "      <th>Model_type r</th>\n",
              "      <th>Model_unimog</th>\n",
              "      <th>Model_v-8</th>\n",
              "      <th>Model_vw bug</th>\n",
              "      <th>Model_x2</th>\n",
              "      <th>Model_x7</th>\n",
              "      <th>Model_xA</th>\n",
              "      <th>Model_xB</th>\n",
              "      <th>Model_xD</th>\n",
              "      <th>Model_xDrive28i</th>\n",
              "      <th>Model_yukon xl</th>\n",
              "    </tr>\n",
              "  </thead>\n",
              "  <tbody>\n",
              "    <tr>\n",
              "      <th>0</th>\n",
              "      <td>137178</td>\n",
              "      <td>7500</td>\n",
              "      <td>2020</td>\n",
              "      <td>84430</td>\n",
              "      <td>1988</td>\n",
              "      <td>0</td>\n",
              "      <td>0</td>\n",
              "      <td>0</td>\n",
              "      <td>0</td>\n",
              "      <td>0</td>\n",
              "      <td>0</td>\n",
              "      <td>0</td>\n",
              "      <td>0</td>\n",
              "      <td>0</td>\n",
              "      <td>0</td>\n",
              "      <td>0</td>\n",
              "      <td>0</td>\n",
              "      <td>0</td>\n",
              "      <td>0</td>\n",
              "      <td>0</td>\n",
              "      <td>0</td>\n",
              "      <td>0</td>\n",
              "      <td>0</td>\n",
              "      <td>0</td>\n",
              "      <td>0</td>\n",
              "      <td>0</td>\n",
              "      <td>0</td>\n",
              "      <td>0</td>\n",
              "      <td>0</td>\n",
              "      <td>0</td>\n",
              "      <td>0</td>\n",
              "      <td>0</td>\n",
              "      <td>0</td>\n",
              "      <td>0</td>\n",
              "      <td>0</td>\n",
              "      <td>0</td>\n",
              "      <td>0</td>\n",
              "      <td>0</td>\n",
              "      <td>0</td>\n",
              "      <td>0</td>\n",
              "      <td>...</td>\n",
              "      <td>0</td>\n",
              "      <td>0</td>\n",
              "      <td>0</td>\n",
              "      <td>0</td>\n",
              "      <td>0</td>\n",
              "      <td>0</td>\n",
              "      <td>0</td>\n",
              "      <td>0</td>\n",
              "      <td>0</td>\n",
              "      <td>0</td>\n",
              "      <td>0</td>\n",
              "      <td>0</td>\n",
              "      <td>0</td>\n",
              "      <td>0</td>\n",
              "      <td>0</td>\n",
              "      <td>0</td>\n",
              "      <td>0</td>\n",
              "      <td>0</td>\n",
              "      <td>0</td>\n",
              "      <td>0</td>\n",
              "      <td>0</td>\n",
              "      <td>0</td>\n",
              "      <td>0</td>\n",
              "      <td>0</td>\n",
              "      <td>0</td>\n",
              "      <td>0</td>\n",
              "      <td>0</td>\n",
              "      <td>0</td>\n",
              "      <td>0</td>\n",
              "      <td>0</td>\n",
              "      <td>0</td>\n",
              "      <td>0</td>\n",
              "      <td>0</td>\n",
              "      <td>0</td>\n",
              "      <td>0</td>\n",
              "      <td>0</td>\n",
              "      <td>0</td>\n",
              "      <td>0</td>\n",
              "      <td>0</td>\n",
              "      <td>0</td>\n",
              "    </tr>\n",
              "    <tr>\n",
              "      <th>1</th>\n",
              "      <td>96705</td>\n",
              "      <td>15000</td>\n",
              "      <td>2019</td>\n",
              "      <td>0</td>\n",
              "      <td>1958</td>\n",
              "      <td>8</td>\n",
              "      <td>0</td>\n",
              "      <td>0</td>\n",
              "      <td>0</td>\n",
              "      <td>0</td>\n",
              "      <td>0</td>\n",
              "      <td>0</td>\n",
              "      <td>0</td>\n",
              "      <td>0</td>\n",
              "      <td>0</td>\n",
              "      <td>0</td>\n",
              "      <td>0</td>\n",
              "      <td>0</td>\n",
              "      <td>0</td>\n",
              "      <td>0</td>\n",
              "      <td>0</td>\n",
              "      <td>0</td>\n",
              "      <td>0</td>\n",
              "      <td>0</td>\n",
              "      <td>0</td>\n",
              "      <td>0</td>\n",
              "      <td>0</td>\n",
              "      <td>0</td>\n",
              "      <td>0</td>\n",
              "      <td>0</td>\n",
              "      <td>0</td>\n",
              "      <td>0</td>\n",
              "      <td>0</td>\n",
              "      <td>0</td>\n",
              "      <td>0</td>\n",
              "      <td>0</td>\n",
              "      <td>0</td>\n",
              "      <td>0</td>\n",
              "      <td>0</td>\n",
              "      <td>0</td>\n",
              "      <td>...</td>\n",
              "      <td>0</td>\n",
              "      <td>0</td>\n",
              "      <td>0</td>\n",
              "      <td>0</td>\n",
              "      <td>0</td>\n",
              "      <td>0</td>\n",
              "      <td>0</td>\n",
              "      <td>0</td>\n",
              "      <td>0</td>\n",
              "      <td>0</td>\n",
              "      <td>0</td>\n",
              "      <td>0</td>\n",
              "      <td>0</td>\n",
              "      <td>0</td>\n",
              "      <td>0</td>\n",
              "      <td>0</td>\n",
              "      <td>0</td>\n",
              "      <td>0</td>\n",
              "      <td>0</td>\n",
              "      <td>0</td>\n",
              "      <td>0</td>\n",
              "      <td>0</td>\n",
              "      <td>0</td>\n",
              "      <td>0</td>\n",
              "      <td>0</td>\n",
              "      <td>0</td>\n",
              "      <td>0</td>\n",
              "      <td>0</td>\n",
              "      <td>0</td>\n",
              "      <td>0</td>\n",
              "      <td>0</td>\n",
              "      <td>0</td>\n",
              "      <td>0</td>\n",
              "      <td>0</td>\n",
              "      <td>0</td>\n",
              "      <td>0</td>\n",
              "      <td>0</td>\n",
              "      <td>0</td>\n",
              "      <td>0</td>\n",
              "      <td>0</td>\n",
              "    </tr>\n",
              "    <tr>\n",
              "      <th>2</th>\n",
              "      <td>119660</td>\n",
              "      <td>8750</td>\n",
              "      <td>2020</td>\n",
              "      <td>55000</td>\n",
              "      <td>1995</td>\n",
              "      <td>6</td>\n",
              "      <td>0</td>\n",
              "      <td>0</td>\n",
              "      <td>0</td>\n",
              "      <td>0</td>\n",
              "      <td>0</td>\n",
              "      <td>0</td>\n",
              "      <td>0</td>\n",
              "      <td>0</td>\n",
              "      <td>0</td>\n",
              "      <td>0</td>\n",
              "      <td>0</td>\n",
              "      <td>0</td>\n",
              "      <td>0</td>\n",
              "      <td>0</td>\n",
              "      <td>0</td>\n",
              "      <td>0</td>\n",
              "      <td>0</td>\n",
              "      <td>0</td>\n",
              "      <td>0</td>\n",
              "      <td>0</td>\n",
              "      <td>0</td>\n",
              "      <td>0</td>\n",
              "      <td>0</td>\n",
              "      <td>0</td>\n",
              "      <td>0</td>\n",
              "      <td>0</td>\n",
              "      <td>0</td>\n",
              "      <td>0</td>\n",
              "      <td>0</td>\n",
              "      <td>0</td>\n",
              "      <td>0</td>\n",
              "      <td>0</td>\n",
              "      <td>0</td>\n",
              "      <td>0</td>\n",
              "      <td>...</td>\n",
              "      <td>0</td>\n",
              "      <td>0</td>\n",
              "      <td>0</td>\n",
              "      <td>0</td>\n",
              "      <td>0</td>\n",
              "      <td>0</td>\n",
              "      <td>0</td>\n",
              "      <td>0</td>\n",
              "      <td>0</td>\n",
              "      <td>0</td>\n",
              "      <td>0</td>\n",
              "      <td>0</td>\n",
              "      <td>0</td>\n",
              "      <td>0</td>\n",
              "      <td>0</td>\n",
              "      <td>0</td>\n",
              "      <td>0</td>\n",
              "      <td>0</td>\n",
              "      <td>0</td>\n",
              "      <td>0</td>\n",
              "      <td>0</td>\n",
              "      <td>0</td>\n",
              "      <td>0</td>\n",
              "      <td>0</td>\n",
              "      <td>0</td>\n",
              "      <td>0</td>\n",
              "      <td>0</td>\n",
              "      <td>0</td>\n",
              "      <td>0</td>\n",
              "      <td>0</td>\n",
              "      <td>0</td>\n",
              "      <td>0</td>\n",
              "      <td>0</td>\n",
              "      <td>0</td>\n",
              "      <td>0</td>\n",
              "      <td>0</td>\n",
              "      <td>0</td>\n",
              "      <td>0</td>\n",
              "      <td>0</td>\n",
              "      <td>0</td>\n",
              "    </tr>\n",
              "    <tr>\n",
              "      <th>3</th>\n",
              "      <td>80773</td>\n",
              "      <td>11600</td>\n",
              "      <td>2019</td>\n",
              "      <td>97200</td>\n",
              "      <td>1968</td>\n",
              "      <td>8</td>\n",
              "      <td>0</td>\n",
              "      <td>0</td>\n",
              "      <td>0</td>\n",
              "      <td>0</td>\n",
              "      <td>0</td>\n",
              "      <td>0</td>\n",
              "      <td>0</td>\n",
              "      <td>0</td>\n",
              "      <td>0</td>\n",
              "      <td>0</td>\n",
              "      <td>0</td>\n",
              "      <td>0</td>\n",
              "      <td>0</td>\n",
              "      <td>0</td>\n",
              "      <td>0</td>\n",
              "      <td>0</td>\n",
              "      <td>0</td>\n",
              "      <td>0</td>\n",
              "      <td>0</td>\n",
              "      <td>0</td>\n",
              "      <td>0</td>\n",
              "      <td>0</td>\n",
              "      <td>0</td>\n",
              "      <td>0</td>\n",
              "      <td>0</td>\n",
              "      <td>0</td>\n",
              "      <td>0</td>\n",
              "      <td>0</td>\n",
              "      <td>0</td>\n",
              "      <td>0</td>\n",
              "      <td>0</td>\n",
              "      <td>0</td>\n",
              "      <td>0</td>\n",
              "      <td>0</td>\n",
              "      <td>...</td>\n",
              "      <td>0</td>\n",
              "      <td>0</td>\n",
              "      <td>0</td>\n",
              "      <td>0</td>\n",
              "      <td>0</td>\n",
              "      <td>0</td>\n",
              "      <td>0</td>\n",
              "      <td>0</td>\n",
              "      <td>0</td>\n",
              "      <td>0</td>\n",
              "      <td>0</td>\n",
              "      <td>0</td>\n",
              "      <td>0</td>\n",
              "      <td>0</td>\n",
              "      <td>0</td>\n",
              "      <td>0</td>\n",
              "      <td>0</td>\n",
              "      <td>0</td>\n",
              "      <td>0</td>\n",
              "      <td>0</td>\n",
              "      <td>0</td>\n",
              "      <td>0</td>\n",
              "      <td>0</td>\n",
              "      <td>0</td>\n",
              "      <td>0</td>\n",
              "      <td>0</td>\n",
              "      <td>0</td>\n",
              "      <td>0</td>\n",
              "      <td>0</td>\n",
              "      <td>0</td>\n",
              "      <td>0</td>\n",
              "      <td>0</td>\n",
              "      <td>0</td>\n",
              "      <td>0</td>\n",
              "      <td>0</td>\n",
              "      <td>0</td>\n",
              "      <td>0</td>\n",
              "      <td>0</td>\n",
              "      <td>0</td>\n",
              "      <td>0</td>\n",
              "    </tr>\n",
              "    <tr>\n",
              "      <th>4</th>\n",
              "      <td>64287</td>\n",
              "      <td>44000</td>\n",
              "      <td>2019</td>\n",
              "      <td>40703</td>\n",
              "      <td>2002</td>\n",
              "      <td>6</td>\n",
              "      <td>0</td>\n",
              "      <td>0</td>\n",
              "      <td>0</td>\n",
              "      <td>0</td>\n",
              "      <td>0</td>\n",
              "      <td>0</td>\n",
              "      <td>0</td>\n",
              "      <td>0</td>\n",
              "      <td>0</td>\n",
              "      <td>0</td>\n",
              "      <td>0</td>\n",
              "      <td>0</td>\n",
              "      <td>0</td>\n",
              "      <td>0</td>\n",
              "      <td>0</td>\n",
              "      <td>0</td>\n",
              "      <td>0</td>\n",
              "      <td>0</td>\n",
              "      <td>0</td>\n",
              "      <td>0</td>\n",
              "      <td>0</td>\n",
              "      <td>0</td>\n",
              "      <td>0</td>\n",
              "      <td>0</td>\n",
              "      <td>0</td>\n",
              "      <td>0</td>\n",
              "      <td>0</td>\n",
              "      <td>0</td>\n",
              "      <td>0</td>\n",
              "      <td>0</td>\n",
              "      <td>0</td>\n",
              "      <td>0</td>\n",
              "      <td>0</td>\n",
              "      <td>0</td>\n",
              "      <td>...</td>\n",
              "      <td>0</td>\n",
              "      <td>0</td>\n",
              "      <td>0</td>\n",
              "      <td>0</td>\n",
              "      <td>0</td>\n",
              "      <td>0</td>\n",
              "      <td>0</td>\n",
              "      <td>0</td>\n",
              "      <td>0</td>\n",
              "      <td>0</td>\n",
              "      <td>0</td>\n",
              "      <td>0</td>\n",
              "      <td>0</td>\n",
              "      <td>0</td>\n",
              "      <td>0</td>\n",
              "      <td>0</td>\n",
              "      <td>0</td>\n",
              "      <td>0</td>\n",
              "      <td>0</td>\n",
              "      <td>0</td>\n",
              "      <td>0</td>\n",
              "      <td>0</td>\n",
              "      <td>0</td>\n",
              "      <td>0</td>\n",
              "      <td>0</td>\n",
              "      <td>0</td>\n",
              "      <td>0</td>\n",
              "      <td>0</td>\n",
              "      <td>0</td>\n",
              "      <td>0</td>\n",
              "      <td>0</td>\n",
              "      <td>0</td>\n",
              "      <td>0</td>\n",
              "      <td>0</td>\n",
              "      <td>0</td>\n",
              "      <td>0</td>\n",
              "      <td>0</td>\n",
              "      <td>0</td>\n",
              "      <td>0</td>\n",
              "      <td>0</td>\n",
              "    </tr>\n",
              "    <tr>\n",
              "      <th>5</th>\n",
              "      <td>132695</td>\n",
              "      <td>950</td>\n",
              "      <td>2020</td>\n",
              "      <td>71300</td>\n",
              "      <td>1965</td>\n",
              "      <td>0</td>\n",
              "      <td>0</td>\n",
              "      <td>0</td>\n",
              "      <td>0</td>\n",
              "      <td>0</td>\n",
              "      <td>0</td>\n",
              "      <td>0</td>\n",
              "      <td>0</td>\n",
              "      <td>0</td>\n",
              "      <td>0</td>\n",
              "      <td>0</td>\n",
              "      <td>0</td>\n",
              "      <td>0</td>\n",
              "      <td>0</td>\n",
              "      <td>0</td>\n",
              "      <td>0</td>\n",
              "      <td>0</td>\n",
              "      <td>0</td>\n",
              "      <td>0</td>\n",
              "      <td>0</td>\n",
              "      <td>0</td>\n",
              "      <td>0</td>\n",
              "      <td>0</td>\n",
              "      <td>0</td>\n",
              "      <td>0</td>\n",
              "      <td>0</td>\n",
              "      <td>0</td>\n",
              "      <td>0</td>\n",
              "      <td>0</td>\n",
              "      <td>0</td>\n",
              "      <td>0</td>\n",
              "      <td>0</td>\n",
              "      <td>0</td>\n",
              "      <td>0</td>\n",
              "      <td>0</td>\n",
              "      <td>...</td>\n",
              "      <td>0</td>\n",
              "      <td>0</td>\n",
              "      <td>0</td>\n",
              "      <td>0</td>\n",
              "      <td>0</td>\n",
              "      <td>0</td>\n",
              "      <td>0</td>\n",
              "      <td>0</td>\n",
              "      <td>0</td>\n",
              "      <td>0</td>\n",
              "      <td>0</td>\n",
              "      <td>0</td>\n",
              "      <td>0</td>\n",
              "      <td>0</td>\n",
              "      <td>0</td>\n",
              "      <td>0</td>\n",
              "      <td>0</td>\n",
              "      <td>0</td>\n",
              "      <td>0</td>\n",
              "      <td>0</td>\n",
              "      <td>0</td>\n",
              "      <td>0</td>\n",
              "      <td>0</td>\n",
              "      <td>0</td>\n",
              "      <td>0</td>\n",
              "      <td>0</td>\n",
              "      <td>0</td>\n",
              "      <td>0</td>\n",
              "      <td>0</td>\n",
              "      <td>0</td>\n",
              "      <td>0</td>\n",
              "      <td>0</td>\n",
              "      <td>0</td>\n",
              "      <td>0</td>\n",
              "      <td>0</td>\n",
              "      <td>0</td>\n",
              "      <td>0</td>\n",
              "      <td>0</td>\n",
              "      <td>0</td>\n",
              "      <td>0</td>\n",
              "    </tr>\n",
              "    <tr>\n",
              "      <th>6</th>\n",
              "      <td>132829</td>\n",
              "      <td>950</td>\n",
              "      <td>2020</td>\n",
              "      <td>71300</td>\n",
              "      <td>1965</td>\n",
              "      <td>0</td>\n",
              "      <td>0</td>\n",
              "      <td>0</td>\n",
              "      <td>0</td>\n",
              "      <td>0</td>\n",
              "      <td>0</td>\n",
              "      <td>0</td>\n",
              "      <td>0</td>\n",
              "      <td>0</td>\n",
              "      <td>0</td>\n",
              "      <td>0</td>\n",
              "      <td>0</td>\n",
              "      <td>0</td>\n",
              "      <td>0</td>\n",
              "      <td>0</td>\n",
              "      <td>0</td>\n",
              "      <td>0</td>\n",
              "      <td>0</td>\n",
              "      <td>0</td>\n",
              "      <td>0</td>\n",
              "      <td>0</td>\n",
              "      <td>0</td>\n",
              "      <td>0</td>\n",
              "      <td>0</td>\n",
              "      <td>0</td>\n",
              "      <td>0</td>\n",
              "      <td>0</td>\n",
              "      <td>0</td>\n",
              "      <td>0</td>\n",
              "      <td>0</td>\n",
              "      <td>0</td>\n",
              "      <td>0</td>\n",
              "      <td>0</td>\n",
              "      <td>0</td>\n",
              "      <td>0</td>\n",
              "      <td>...</td>\n",
              "      <td>0</td>\n",
              "      <td>0</td>\n",
              "      <td>0</td>\n",
              "      <td>0</td>\n",
              "      <td>0</td>\n",
              "      <td>0</td>\n",
              "      <td>0</td>\n",
              "      <td>0</td>\n",
              "      <td>0</td>\n",
              "      <td>0</td>\n",
              "      <td>0</td>\n",
              "      <td>0</td>\n",
              "      <td>0</td>\n",
              "      <td>0</td>\n",
              "      <td>0</td>\n",
              "      <td>0</td>\n",
              "      <td>0</td>\n",
              "      <td>0</td>\n",
              "      <td>0</td>\n",
              "      <td>0</td>\n",
              "      <td>0</td>\n",
              "      <td>0</td>\n",
              "      <td>0</td>\n",
              "      <td>0</td>\n",
              "      <td>0</td>\n",
              "      <td>0</td>\n",
              "      <td>0</td>\n",
              "      <td>0</td>\n",
              "      <td>0</td>\n",
              "      <td>0</td>\n",
              "      <td>0</td>\n",
              "      <td>0</td>\n",
              "      <td>0</td>\n",
              "      <td>0</td>\n",
              "      <td>0</td>\n",
              "      <td>0</td>\n",
              "      <td>0</td>\n",
              "      <td>0</td>\n",
              "      <td>0</td>\n",
              "      <td>0</td>\n",
              "    </tr>\n",
              "    <tr>\n",
              "      <th>7</th>\n",
              "      <td>5250</td>\n",
              "      <td>70000</td>\n",
              "      <td>2019</td>\n",
              "      <td>6500</td>\n",
              "      <td>1997</td>\n",
              "      <td>0</td>\n",
              "      <td>0</td>\n",
              "      <td>0</td>\n",
              "      <td>0</td>\n",
              "      <td>0</td>\n",
              "      <td>0</td>\n",
              "      <td>0</td>\n",
              "      <td>0</td>\n",
              "      <td>0</td>\n",
              "      <td>0</td>\n",
              "      <td>0</td>\n",
              "      <td>0</td>\n",
              "      <td>0</td>\n",
              "      <td>0</td>\n",
              "      <td>0</td>\n",
              "      <td>0</td>\n",
              "      <td>0</td>\n",
              "      <td>0</td>\n",
              "      <td>0</td>\n",
              "      <td>0</td>\n",
              "      <td>0</td>\n",
              "      <td>0</td>\n",
              "      <td>0</td>\n",
              "      <td>0</td>\n",
              "      <td>0</td>\n",
              "      <td>0</td>\n",
              "      <td>0</td>\n",
              "      <td>0</td>\n",
              "      <td>0</td>\n",
              "      <td>0</td>\n",
              "      <td>0</td>\n",
              "      <td>0</td>\n",
              "      <td>0</td>\n",
              "      <td>0</td>\n",
              "      <td>0</td>\n",
              "      <td>...</td>\n",
              "      <td>0</td>\n",
              "      <td>0</td>\n",
              "      <td>0</td>\n",
              "      <td>0</td>\n",
              "      <td>0</td>\n",
              "      <td>0</td>\n",
              "      <td>0</td>\n",
              "      <td>0</td>\n",
              "      <td>0</td>\n",
              "      <td>0</td>\n",
              "      <td>0</td>\n",
              "      <td>0</td>\n",
              "      <td>0</td>\n",
              "      <td>0</td>\n",
              "      <td>0</td>\n",
              "      <td>0</td>\n",
              "      <td>0</td>\n",
              "      <td>0</td>\n",
              "      <td>0</td>\n",
              "      <td>0</td>\n",
              "      <td>0</td>\n",
              "      <td>0</td>\n",
              "      <td>0</td>\n",
              "      <td>0</td>\n",
              "      <td>0</td>\n",
              "      <td>0</td>\n",
              "      <td>0</td>\n",
              "      <td>0</td>\n",
              "      <td>0</td>\n",
              "      <td>0</td>\n",
              "      <td>0</td>\n",
              "      <td>0</td>\n",
              "      <td>0</td>\n",
              "      <td>0</td>\n",
              "      <td>0</td>\n",
              "      <td>0</td>\n",
              "      <td>0</td>\n",
              "      <td>0</td>\n",
              "      <td>0</td>\n",
              "      <td>0</td>\n",
              "    </tr>\n",
              "    <tr>\n",
              "      <th>8</th>\n",
              "      <td>29023</td>\n",
              "      <td>1330</td>\n",
              "      <td>2019</td>\n",
              "      <td>167000</td>\n",
              "      <td>2001</td>\n",
              "      <td>4</td>\n",
              "      <td>0</td>\n",
              "      <td>0</td>\n",
              "      <td>0</td>\n",
              "      <td>0</td>\n",
              "      <td>0</td>\n",
              "      <td>0</td>\n",
              "      <td>0</td>\n",
              "      <td>0</td>\n",
              "      <td>0</td>\n",
              "      <td>0</td>\n",
              "      <td>0</td>\n",
              "      <td>0</td>\n",
              "      <td>0</td>\n",
              "      <td>0</td>\n",
              "      <td>0</td>\n",
              "      <td>0</td>\n",
              "      <td>0</td>\n",
              "      <td>0</td>\n",
              "      <td>0</td>\n",
              "      <td>0</td>\n",
              "      <td>0</td>\n",
              "      <td>0</td>\n",
              "      <td>0</td>\n",
              "      <td>0</td>\n",
              "      <td>0</td>\n",
              "      <td>0</td>\n",
              "      <td>0</td>\n",
              "      <td>0</td>\n",
              "      <td>0</td>\n",
              "      <td>0</td>\n",
              "      <td>0</td>\n",
              "      <td>0</td>\n",
              "      <td>0</td>\n",
              "      <td>0</td>\n",
              "      <td>...</td>\n",
              "      <td>0</td>\n",
              "      <td>0</td>\n",
              "      <td>0</td>\n",
              "      <td>0</td>\n",
              "      <td>0</td>\n",
              "      <td>0</td>\n",
              "      <td>0</td>\n",
              "      <td>0</td>\n",
              "      <td>0</td>\n",
              "      <td>0</td>\n",
              "      <td>0</td>\n",
              "      <td>0</td>\n",
              "      <td>0</td>\n",
              "      <td>0</td>\n",
              "      <td>0</td>\n",
              "      <td>0</td>\n",
              "      <td>0</td>\n",
              "      <td>0</td>\n",
              "      <td>0</td>\n",
              "      <td>0</td>\n",
              "      <td>0</td>\n",
              "      <td>0</td>\n",
              "      <td>0</td>\n",
              "      <td>0</td>\n",
              "      <td>0</td>\n",
              "      <td>0</td>\n",
              "      <td>0</td>\n",
              "      <td>0</td>\n",
              "      <td>0</td>\n",
              "      <td>0</td>\n",
              "      <td>0</td>\n",
              "      <td>0</td>\n",
              "      <td>0</td>\n",
              "      <td>0</td>\n",
              "      <td>0</td>\n",
              "      <td>0</td>\n",
              "      <td>0</td>\n",
              "      <td>0</td>\n",
              "      <td>0</td>\n",
              "      <td>0</td>\n",
              "    </tr>\n",
              "    <tr>\n",
              "      <th>9</th>\n",
              "      <td>80293</td>\n",
              "      <td>25200</td>\n",
              "      <td>2019</td>\n",
              "      <td>15000</td>\n",
              "      <td>1970</td>\n",
              "      <td>0</td>\n",
              "      <td>0</td>\n",
              "      <td>0</td>\n",
              "      <td>0</td>\n",
              "      <td>0</td>\n",
              "      <td>0</td>\n",
              "      <td>0</td>\n",
              "      <td>0</td>\n",
              "      <td>0</td>\n",
              "      <td>0</td>\n",
              "      <td>0</td>\n",
              "      <td>0</td>\n",
              "      <td>0</td>\n",
              "      <td>0</td>\n",
              "      <td>0</td>\n",
              "      <td>0</td>\n",
              "      <td>0</td>\n",
              "      <td>0</td>\n",
              "      <td>0</td>\n",
              "      <td>0</td>\n",
              "      <td>0</td>\n",
              "      <td>0</td>\n",
              "      <td>0</td>\n",
              "      <td>0</td>\n",
              "      <td>0</td>\n",
              "      <td>0</td>\n",
              "      <td>0</td>\n",
              "      <td>0</td>\n",
              "      <td>0</td>\n",
              "      <td>0</td>\n",
              "      <td>0</td>\n",
              "      <td>0</td>\n",
              "      <td>0</td>\n",
              "      <td>0</td>\n",
              "      <td>0</td>\n",
              "      <td>...</td>\n",
              "      <td>0</td>\n",
              "      <td>0</td>\n",
              "      <td>0</td>\n",
              "      <td>0</td>\n",
              "      <td>0</td>\n",
              "      <td>0</td>\n",
              "      <td>0</td>\n",
              "      <td>0</td>\n",
              "      <td>0</td>\n",
              "      <td>0</td>\n",
              "      <td>0</td>\n",
              "      <td>0</td>\n",
              "      <td>0</td>\n",
              "      <td>0</td>\n",
              "      <td>0</td>\n",
              "      <td>0</td>\n",
              "      <td>0</td>\n",
              "      <td>0</td>\n",
              "      <td>0</td>\n",
              "      <td>0</td>\n",
              "      <td>0</td>\n",
              "      <td>0</td>\n",
              "      <td>0</td>\n",
              "      <td>0</td>\n",
              "      <td>0</td>\n",
              "      <td>0</td>\n",
              "      <td>0</td>\n",
              "      <td>0</td>\n",
              "      <td>0</td>\n",
              "      <td>0</td>\n",
              "      <td>0</td>\n",
              "      <td>0</td>\n",
              "      <td>0</td>\n",
              "      <td>0</td>\n",
              "      <td>0</td>\n",
              "      <td>0</td>\n",
              "      <td>0</td>\n",
              "      <td>0</td>\n",
              "      <td>0</td>\n",
              "      <td>0</td>\n",
              "    </tr>\n",
              "  </tbody>\n",
              "</table>\n",
              "<p>10 rows × 4728 columns</p>\n",
              "</div>"
            ],
            "text/plain": [
              "       ID  pricesold  yearsold  ...  Model_xD  Model_xDrive28i  Model_yukon xl\n",
              "0  137178       7500      2020  ...         0                0               0\n",
              "1   96705      15000      2019  ...         0                0               0\n",
              "2  119660       8750      2020  ...         0                0               0\n",
              "3   80773      11600      2019  ...         0                0               0\n",
              "4   64287      44000      2019  ...         0                0               0\n",
              "5  132695        950      2020  ...         0                0               0\n",
              "6  132829        950      2020  ...         0                0               0\n",
              "7    5250      70000      2019  ...         0                0               0\n",
              "8   29023       1330      2019  ...         0                0               0\n",
              "9   80293      25200      2019  ...         0                0               0\n",
              "\n",
              "[10 rows x 4728 columns]"
            ]
          },
          "metadata": {
            "tags": []
          },
          "execution_count": 24
        }
      ]
    },
    {
      "cell_type": "markdown",
      "metadata": {
        "id": "hyJJRfgU_2g1"
      },
      "source": [
        "<b> <font color = red>We need to ensure that there are now no rows with missing values before we proceed."
      ]
    },
    {
      "cell_type": "markdown",
      "metadata": {
        "id": "YuXY3rqc9uwr"
      },
      "source": [
        "Now do one final Sanity check that there are now missing values in any rows. Again this should not have to be done in the final setup."
      ]
    },
    {
      "cell_type": "code",
      "metadata": {
        "colab": {
          "base_uri": "https://localhost:8080/"
        },
        "id": "z7CDZJN59rBE",
        "outputId": "752fe841-80f6-4a9d-a08e-43221d9fac3c"
      },
      "source": [
        "# Count total NaN at each column in a DataFrame \n",
        "print(\" \\nCount total NaN at each column in a DataFrame : \\n\\n\", \n",
        "      df.isnull().sum())"
      ],
      "execution_count": null,
      "outputs": [
        {
          "output_type": "stream",
          "text": [
            " \n",
            "Count total NaN at each column in a DataFrame : \n",
            "\n",
            " ID                 0\n",
            "pricesold          0\n",
            "yearsold           0\n",
            "Mileage            0\n",
            "Year               0\n",
            "                  ..\n",
            "Model_xA           0\n",
            "Model_xB           0\n",
            "Model_xD           0\n",
            "Model_xDrive28i    0\n",
            "Model_yukon xl     0\n",
            "Length: 4728, dtype: int64\n"
          ],
          "name": "stdout"
        }
      ]
    },
    {
      "cell_type": "markdown",
      "metadata": {
        "id": "I93XU7MThg5S"
      },
      "source": [
        "## <font color = green> Logistic or linear regresssion can be ran here"
      ]
    },
    {
      "cell_type": "markdown",
      "metadata": {
        "id": "F9fQ4gKxh0Ee"
      },
      "source": [
        "<b> <font color = red> Here we need code to run the good old fashioned methods of whatever method we choose"
      ]
    },
    {
      "cell_type": "markdown",
      "metadata": {
        "id": "DefoZ4KV-5L3"
      },
      "source": [
        "Define the target(y) and non-target, learning variables (x)\n",
        "We need to drop PricesOld, this is going to be Y, which we are hoping to predict"
      ]
    },
    {
      "cell_type": "code",
      "metadata": {
        "id": "0edC7rdW_LJx"
      },
      "source": [
        "x= df.drop('pricesold',1)\n",
        "y=df['pricesold']\n"
      ],
      "execution_count": null,
      "outputs": []
    },
    {
      "cell_type": "code",
      "metadata": {
        "id": "eUE9RzX8Bh-9",
        "colab": {
          "base_uri": "https://localhost:8080/"
        },
        "outputId": "06561e4c-ebc5-49cc-b795-03fce9ab243e"
      },
      "source": [
        "# Splitting the Dataset to create test and train variable using the train \n",
        "# split command from sklearn\n",
        "x_train, x_test, y_train, y_test = train_test_split(x, y, test_size= 0.25, shuffle = True) \n",
        "# Test size is 25% of data . Train is 75%\n",
        "\n",
        "print (x_train.shape, y_train.shape)    # This should have 75 percent of members\n",
        "print (x_test.shape, y_test.shape)      # This should have 25 percent of members"
      ],
      "execution_count": null,
      "outputs": [
        {
          "output_type": "stream",
          "text": [
            "(91178, 4727) (91178,)\n",
            "(30393, 4727) (30393,)\n"
          ],
          "name": "stdout"
        }
      ]
    },
    {
      "cell_type": "markdown",
      "metadata": {
        "id": "MKaXUKSdDQPo"
      },
      "source": [
        "### Firstly lets use the Linear regression model\n"
      ]
    },
    {
      "cell_type": "code",
      "metadata": {
        "id": "yJ1Nvqt1CZtZ"
      },
      "source": [
        "# Here we use the linear regression model. All columns must be numeric\n",
        "# This numeric need was acheived by one-hot encoding above\n",
        "\n",
        "lrm = linear_model.LinearRegression()\n"
      ],
      "execution_count": null,
      "outputs": []
    },
    {
      "cell_type": "code",
      "metadata": {
        "id": "EkgwoZdiGafo"
      },
      "source": [
        "lrm_model = lrm.fit(x_train, y_train)"
      ],
      "execution_count": null,
      "outputs": []
    },
    {
      "cell_type": "code",
      "metadata": {
        "id": "tI460PODGdep"
      },
      "source": [
        "lrm_predictions= lrm.predict(x_test)"
      ],
      "execution_count": null,
      "outputs": []
    },
    {
      "cell_type": "code",
      "metadata": {
        "id": "qRPKQBH-C1W4",
        "colab": {
          "base_uri": "https://localhost:8080/"
        },
        "outputId": "16bd67ef-d78b-46b4-a5e8-4eb2e0d0b174"
      },
      "source": [
        "print( ' Model Accuracy is :', lrm_model.score(x_test, y_test))"
      ],
      "execution_count": null,
      "outputs": [
        {
          "output_type": "stream",
          "text": [
            " Model Accuracy is : 0.3299379592364695\n"
          ],
          "name": "stdout"
        }
      ]
    },
    {
      "cell_type": "markdown",
      "metadata": {
        "id": "YkiQOSqbhs1u"
      },
      "source": [
        "## <font color = green> This is Auto Machine learning section"
      ]
    },
    {
      "cell_type": "markdown",
      "metadata": {
        "id": "Y6mXv22rh7_H"
      },
      "source": [
        "<b> <font color = red> This is the first pass attempt at running machine learning on this setup\n",
        "let the machine train itself"
      ]
    },
    {
      "cell_type": "code",
      "metadata": {
        "id": "UzTEhIfshiMn"
      },
      "source": [
        "# Assign X and Y variable\n",
        "X = df.drop ('pricesold', axis = 1)\n",
        "y = df['pricesold']"
      ],
      "execution_count": null,
      "outputs": []
    },
    {
      "cell_type": "code",
      "metadata": {
        "id": "9b6LRpJWhx9K"
      },
      "source": [
        "# Split the Data in to test/train  set ( 70 / 30 split and shuffle)\n",
        "X_train, X_test, y_train, y_test= train_test_split(X, y, test_size = 0.3, shuffle = True)"
      ],
      "execution_count": null,
      "outputs": []
    },
    {
      "cell_type": "code",
      "metadata": {
        "id": "zgJskmgniKMc"
      },
      "source": [
        "#Input algorrithim\n",
        "model = ensemble.GradientBoostingRegressor()"
      ],
      "execution_count": null,
      "outputs": []
    },
    {
      "cell_type": "code",
      "metadata": {
        "id": "ZTasycvMiQ9U"
      },
      "source": [
        "# Set the configurations that you wish to test\n",
        "\n",
        "hyperparameters = {\n",
        "    'n_estimators' : [200,300],\n",
        "    'max_depth' : [4,6],\n",
        "    'min_samples_split': [3,4],\n",
        "    'min_samples_leaf': [5,6],\n",
        "    'learning_rate': [0.01,0.02],\n",
        "    'max_features': [0.8, 0.9],\n",
        "    'loss': ['ls', 'lad', 'huber']\n",
        "}"
      ],
      "execution_count": null,
      "outputs": []
    },
    {
      "cell_type": "code",
      "metadata": {
        "id": "t5SZ5MGQjJ5P"
      },
      "source": [
        "# Define the grid search , run with 4 cpus in parallel\n",
        "# It is worth setting verbose here or otherwise you get no output showing progress\n",
        "\n",
        "grid_search= GridSearchCV(model, param_grid = hyperparameters, verbose = 1)"
      ],
      "execution_count": null,
      "outputs": []
    },
    {
      "cell_type": "code",
      "metadata": {
        "id": "RuYeUGgBjXtb",
        "colab": {
          "base_uri": "https://localhost:8080/",
          "height": 181
        },
        "outputId": "3a1a7f41-bfe6-42aa-ac4c-b9ad12b16f06"
      },
      "source": [
        "# run the grid search on the training data\n",
        "grid_search.fit(X_train, y_train)"
      ],
      "execution_count": null,
      "outputs": [
        {
          "output_type": "error",
          "ename": "NameError",
          "evalue": "ignored",
          "traceback": [
            "\u001b[0;31m---------------------------------------------------------------------------\u001b[0m",
            "\u001b[0;31mNameError\u001b[0m                                 Traceback (most recent call last)",
            "\u001b[0;32m<ipython-input-1-b30ed7170c4e>\u001b[0m in \u001b[0;36m<module>\u001b[0;34m()\u001b[0m\n\u001b[1;32m      1\u001b[0m \u001b[0;31m# run the grid search on the training data\u001b[0m\u001b[0;34m\u001b[0m\u001b[0;34m\u001b[0m\u001b[0;34m\u001b[0m\u001b[0m\n\u001b[0;32m----> 2\u001b[0;31m \u001b[0mgrid_search\u001b[0m\u001b[0;34m.\u001b[0m\u001b[0mfit\u001b[0m\u001b[0;34m(\u001b[0m\u001b[0mX_train\u001b[0m\u001b[0;34m,\u001b[0m \u001b[0my_train\u001b[0m\u001b[0;34m)\u001b[0m\u001b[0;34m\u001b[0m\u001b[0;34m\u001b[0m\u001b[0m\n\u001b[0m",
            "\u001b[0;31mNameError\u001b[0m: name 'grid_search' is not defined"
          ]
        }
      ]
    },
    {
      "cell_type": "code",
      "metadata": {
        "id": "VWNvhYHyndRZ",
        "colab": {
          "base_uri": "https://localhost:8080/",
          "height": 164
        },
        "outputId": "90b51ce3-0a18-45f9-ea18-5359160241f2"
      },
      "source": [
        "print (grid_search.best_params_)"
      ],
      "execution_count": null,
      "outputs": [
        {
          "output_type": "error",
          "ename": "NameError",
          "evalue": "ignored",
          "traceback": [
            "\u001b[0;31m---------------------------------------------------------------------------\u001b[0m",
            "\u001b[0;31mNameError\u001b[0m                                 Traceback (most recent call last)",
            "\u001b[0;32m<ipython-input-2-02255357e0c2>\u001b[0m in \u001b[0;36m<module>\u001b[0;34m()\u001b[0m\n\u001b[0;32m----> 1\u001b[0;31m \u001b[0mprint\u001b[0m \u001b[0;34m(\u001b[0m\u001b[0mgrid_search\u001b[0m\u001b[0;34m.\u001b[0m\u001b[0mbest_params_\u001b[0m\u001b[0;34m)\u001b[0m\u001b[0;34m\u001b[0m\u001b[0;34m\u001b[0m\u001b[0m\n\u001b[0m",
            "\u001b[0;31mNameError\u001b[0m: name 'grid_search' is not defined"
          ]
        }
      ]
    },
    {
      "cell_type": "code",
      "metadata": {
        "id": "LX23QqWbKiHq"
      },
      "source": [
        "print(\"The best parameters are %s with a score of %0.2f\" % (grid_search.best_params_, grid_search.best_score_))"
      ],
      "execution_count": null,
      "outputs": []
    }
  ]
}